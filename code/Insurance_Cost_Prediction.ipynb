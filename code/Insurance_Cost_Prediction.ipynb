{
  "cells": [
    {
      "cell_type": "markdown",
      "metadata": {
        "id": "DOAqARH755do"
      },
      "source": [
        "**Project Goal:** Predict an Individual's Annual Medical Insurance Premium from Health Data\n",
        "\n",
        "[Medical Insurance Premium Dataset (Kaggle)](https://www.kaggle.com/datasets/tejashvi14/medical-insurance-premium-prediction/data)\n",
        "\n",
        "---"
      ]
    },
    {
      "cell_type": "markdown",
      "metadata": {
        "id": "aBSC3unt5Z7O"
      },
      "source": [
        "Read-In from Drive"
      ]
    },
    {
      "cell_type": "code",
      "execution_count": null,
      "metadata": {
        "colab": {
          "base_uri": "https://localhost:8080/"
        },
        "id": "lIHoIM7XlbPN",
        "outputId": "3094f2ec-8d63-4c10-a9e0-e5b887d0f541"
      },
      "outputs": [
        {
          "output_type": "stream",
          "name": "stdout",
          "text": [
            "Mounted at /content/drive\n"
          ]
        }
      ],
      "source": [
        "from google.colab import drive\n",
        "import pandas as pd\n",
        "\n",
        "drive.mount('/content/drive')\n",
        "\n",
        "df = pd.read_csv('/content/drive/My Drive/BZAN3307/Code_Project/Medicalpremium.csv')"
      ]
    },
    {
      "cell_type": "markdown",
      "metadata": {
        "id": "pDi2uycJ5fXs"
      },
      "source": [
        "Read-In Manually (upload file directly to CoLab, or your preferred environment)"
      ]
    },
    {
      "cell_type": "code",
      "execution_count": null,
      "metadata": {
        "colab": {
          "base_uri": "https://localhost:8080/",
          "height": 335
        },
        "id": "-CXMaSk25jX6",
        "outputId": "78041132-2ad6-44c5-d43b-6f594d876287"
      },
      "outputs": [
        {
          "output_type": "error",
          "ename": "FileNotFoundError",
          "evalue": "[Errno 2] No such file or directory: 'Medicalpremium.csv'",
          "traceback": [
            "\u001b[0;31m---------------------------------------------------------------------------\u001b[0m",
            "\u001b[0;31mFileNotFoundError\u001b[0m                         Traceback (most recent call last)",
            "\u001b[0;32m<ipython-input-3-82f818b104a7>\u001b[0m in \u001b[0;36m<cell line: 2>\u001b[0;34m()\u001b[0m\n\u001b[1;32m      1\u001b[0m \u001b[0;32mimport\u001b[0m \u001b[0mpandas\u001b[0m \u001b[0;32mas\u001b[0m \u001b[0mpd\u001b[0m\u001b[0;34m\u001b[0m\u001b[0;34m\u001b[0m\u001b[0m\n\u001b[0;32m----> 2\u001b[0;31m \u001b[0mdf\u001b[0m \u001b[0;34m=\u001b[0m \u001b[0mpd\u001b[0m\u001b[0;34m.\u001b[0m\u001b[0mread_csv\u001b[0m\u001b[0;34m(\u001b[0m\u001b[0;34m'Medicalpremium.csv'\u001b[0m\u001b[0;34m)\u001b[0m\u001b[0;34m\u001b[0m\u001b[0;34m\u001b[0m\u001b[0m\n\u001b[0m",
            "\u001b[0;32m/usr/local/lib/python3.10/dist-packages/pandas/io/parsers/readers.py\u001b[0m in \u001b[0;36mread_csv\u001b[0;34m(filepath_or_buffer, sep, delimiter, header, names, index_col, usecols, dtype, engine, converters, true_values, false_values, skipinitialspace, skiprows, skipfooter, nrows, na_values, keep_default_na, na_filter, verbose, skip_blank_lines, parse_dates, infer_datetime_format, keep_date_col, date_parser, date_format, dayfirst, cache_dates, iterator, chunksize, compression, thousands, decimal, lineterminator, quotechar, quoting, doublequote, escapechar, comment, encoding, encoding_errors, dialect, on_bad_lines, delim_whitespace, low_memory, memory_map, float_precision, storage_options, dtype_backend)\u001b[0m\n\u001b[1;32m   1024\u001b[0m     \u001b[0mkwds\u001b[0m\u001b[0;34m.\u001b[0m\u001b[0mupdate\u001b[0m\u001b[0;34m(\u001b[0m\u001b[0mkwds_defaults\u001b[0m\u001b[0;34m)\u001b[0m\u001b[0;34m\u001b[0m\u001b[0;34m\u001b[0m\u001b[0m\n\u001b[1;32m   1025\u001b[0m \u001b[0;34m\u001b[0m\u001b[0m\n\u001b[0;32m-> 1026\u001b[0;31m     \u001b[0;32mreturn\u001b[0m \u001b[0m_read\u001b[0m\u001b[0;34m(\u001b[0m\u001b[0mfilepath_or_buffer\u001b[0m\u001b[0;34m,\u001b[0m \u001b[0mkwds\u001b[0m\u001b[0;34m)\u001b[0m\u001b[0;34m\u001b[0m\u001b[0;34m\u001b[0m\u001b[0m\n\u001b[0m\u001b[1;32m   1027\u001b[0m \u001b[0;34m\u001b[0m\u001b[0m\n\u001b[1;32m   1028\u001b[0m \u001b[0;34m\u001b[0m\u001b[0m\n",
            "\u001b[0;32m/usr/local/lib/python3.10/dist-packages/pandas/io/parsers/readers.py\u001b[0m in \u001b[0;36m_read\u001b[0;34m(filepath_or_buffer, kwds)\u001b[0m\n\u001b[1;32m    618\u001b[0m \u001b[0;34m\u001b[0m\u001b[0m\n\u001b[1;32m    619\u001b[0m     \u001b[0;31m# Create the parser.\u001b[0m\u001b[0;34m\u001b[0m\u001b[0;34m\u001b[0m\u001b[0m\n\u001b[0;32m--> 620\u001b[0;31m     \u001b[0mparser\u001b[0m \u001b[0;34m=\u001b[0m \u001b[0mTextFileReader\u001b[0m\u001b[0;34m(\u001b[0m\u001b[0mfilepath_or_buffer\u001b[0m\u001b[0;34m,\u001b[0m \u001b[0;34m**\u001b[0m\u001b[0mkwds\u001b[0m\u001b[0;34m)\u001b[0m\u001b[0;34m\u001b[0m\u001b[0;34m\u001b[0m\u001b[0m\n\u001b[0m\u001b[1;32m    621\u001b[0m \u001b[0;34m\u001b[0m\u001b[0m\n\u001b[1;32m    622\u001b[0m     \u001b[0;32mif\u001b[0m \u001b[0mchunksize\u001b[0m \u001b[0;32mor\u001b[0m \u001b[0miterator\u001b[0m\u001b[0;34m:\u001b[0m\u001b[0;34m\u001b[0m\u001b[0;34m\u001b[0m\u001b[0m\n",
            "\u001b[0;32m/usr/local/lib/python3.10/dist-packages/pandas/io/parsers/readers.py\u001b[0m in \u001b[0;36m__init__\u001b[0;34m(self, f, engine, **kwds)\u001b[0m\n\u001b[1;32m   1618\u001b[0m \u001b[0;34m\u001b[0m\u001b[0m\n\u001b[1;32m   1619\u001b[0m         \u001b[0mself\u001b[0m\u001b[0;34m.\u001b[0m\u001b[0mhandles\u001b[0m\u001b[0;34m:\u001b[0m \u001b[0mIOHandles\u001b[0m \u001b[0;34m|\u001b[0m \u001b[0;32mNone\u001b[0m \u001b[0;34m=\u001b[0m \u001b[0;32mNone\u001b[0m\u001b[0;34m\u001b[0m\u001b[0;34m\u001b[0m\u001b[0m\n\u001b[0;32m-> 1620\u001b[0;31m         \u001b[0mself\u001b[0m\u001b[0;34m.\u001b[0m\u001b[0m_engine\u001b[0m \u001b[0;34m=\u001b[0m \u001b[0mself\u001b[0m\u001b[0;34m.\u001b[0m\u001b[0m_make_engine\u001b[0m\u001b[0;34m(\u001b[0m\u001b[0mf\u001b[0m\u001b[0;34m,\u001b[0m \u001b[0mself\u001b[0m\u001b[0;34m.\u001b[0m\u001b[0mengine\u001b[0m\u001b[0;34m)\u001b[0m\u001b[0;34m\u001b[0m\u001b[0;34m\u001b[0m\u001b[0m\n\u001b[0m\u001b[1;32m   1621\u001b[0m \u001b[0;34m\u001b[0m\u001b[0m\n\u001b[1;32m   1622\u001b[0m     \u001b[0;32mdef\u001b[0m \u001b[0mclose\u001b[0m\u001b[0;34m(\u001b[0m\u001b[0mself\u001b[0m\u001b[0;34m)\u001b[0m \u001b[0;34m->\u001b[0m \u001b[0;32mNone\u001b[0m\u001b[0;34m:\u001b[0m\u001b[0;34m\u001b[0m\u001b[0;34m\u001b[0m\u001b[0m\n",
            "\u001b[0;32m/usr/local/lib/python3.10/dist-packages/pandas/io/parsers/readers.py\u001b[0m in \u001b[0;36m_make_engine\u001b[0;34m(self, f, engine)\u001b[0m\n\u001b[1;32m   1878\u001b[0m                 \u001b[0;32mif\u001b[0m \u001b[0;34m\"b\"\u001b[0m \u001b[0;32mnot\u001b[0m \u001b[0;32min\u001b[0m \u001b[0mmode\u001b[0m\u001b[0;34m:\u001b[0m\u001b[0;34m\u001b[0m\u001b[0;34m\u001b[0m\u001b[0m\n\u001b[1;32m   1879\u001b[0m                     \u001b[0mmode\u001b[0m \u001b[0;34m+=\u001b[0m \u001b[0;34m\"b\"\u001b[0m\u001b[0;34m\u001b[0m\u001b[0;34m\u001b[0m\u001b[0m\n\u001b[0;32m-> 1880\u001b[0;31m             self.handles = get_handle(\n\u001b[0m\u001b[1;32m   1881\u001b[0m                 \u001b[0mf\u001b[0m\u001b[0;34m,\u001b[0m\u001b[0;34m\u001b[0m\u001b[0;34m\u001b[0m\u001b[0m\n\u001b[1;32m   1882\u001b[0m                 \u001b[0mmode\u001b[0m\u001b[0;34m,\u001b[0m\u001b[0;34m\u001b[0m\u001b[0;34m\u001b[0m\u001b[0m\n",
            "\u001b[0;32m/usr/local/lib/python3.10/dist-packages/pandas/io/common.py\u001b[0m in \u001b[0;36mget_handle\u001b[0;34m(path_or_buf, mode, encoding, compression, memory_map, is_text, errors, storage_options)\u001b[0m\n\u001b[1;32m    871\u001b[0m         \u001b[0;32mif\u001b[0m \u001b[0mioargs\u001b[0m\u001b[0;34m.\u001b[0m\u001b[0mencoding\u001b[0m \u001b[0;32mand\u001b[0m \u001b[0;34m\"b\"\u001b[0m \u001b[0;32mnot\u001b[0m \u001b[0;32min\u001b[0m \u001b[0mioargs\u001b[0m\u001b[0;34m.\u001b[0m\u001b[0mmode\u001b[0m\u001b[0;34m:\u001b[0m\u001b[0;34m\u001b[0m\u001b[0;34m\u001b[0m\u001b[0m\n\u001b[1;32m    872\u001b[0m             \u001b[0;31m# Encoding\u001b[0m\u001b[0;34m\u001b[0m\u001b[0;34m\u001b[0m\u001b[0m\n\u001b[0;32m--> 873\u001b[0;31m             handle = open(\n\u001b[0m\u001b[1;32m    874\u001b[0m                 \u001b[0mhandle\u001b[0m\u001b[0;34m,\u001b[0m\u001b[0;34m\u001b[0m\u001b[0;34m\u001b[0m\u001b[0m\n\u001b[1;32m    875\u001b[0m                 \u001b[0mioargs\u001b[0m\u001b[0;34m.\u001b[0m\u001b[0mmode\u001b[0m\u001b[0;34m,\u001b[0m\u001b[0;34m\u001b[0m\u001b[0;34m\u001b[0m\u001b[0m\n",
            "\u001b[0;31mFileNotFoundError\u001b[0m: [Errno 2] No such file or directory: 'Medicalpremium.csv'"
          ]
        }
      ],
      "source": [
        "import pandas as pd\n",
        "df = pd.read_csv('Medicalpremium.csv')"
      ]
    },
    {
      "cell_type": "markdown",
      "metadata": {
        "id": "mir6HP98SpAV"
      },
      "source": [
        "# Profiling"
      ]
    },
    {
      "cell_type": "code",
      "execution_count": null,
      "metadata": {
        "colab": {
          "base_uri": "https://localhost:8080/",
          "height": 443
        },
        "id": "LwfrYI7TnEDh",
        "outputId": "317fb2cf-1aee-4712-e1d2-d1dc6eea1839"
      },
      "outputs": [
        {
          "output_type": "execute_result",
          "data": {
            "text/plain": [
              "     Age  Diabetes  BloodPressureProblems  AnyTransplants  AnyChronicDiseases  \\\n",
              "0     45         0                      0               0                   0   \n",
              "1     60         1                      0               0                   0   \n",
              "2     36         1                      1               0                   0   \n",
              "3     52         1                      1               0                   1   \n",
              "4     38         0                      0               0                   1   \n",
              "..   ...       ...                    ...             ...                 ...   \n",
              "981   18         0                      0               0                   0   \n",
              "982   64         1                      1               0                   0   \n",
              "983   56         0                      1               0                   0   \n",
              "984   47         1                      1               0                   0   \n",
              "985   21         0                      0               0                   0   \n",
              "\n",
              "     Height  Weight  KnownAllergies  HistoryOfCancerInFamily  \\\n",
              "0       155      57               0                        0   \n",
              "1       180      73               0                        0   \n",
              "2       158      59               0                        0   \n",
              "3       183      93               0                        0   \n",
              "4       166      88               0                        0   \n",
              "..      ...     ...             ...                      ...   \n",
              "981     169      67               0                        0   \n",
              "982     153      70               0                        0   \n",
              "983     155      71               0                        0   \n",
              "984     158      73               1                        0   \n",
              "985     158      75               1                        0   \n",
              "\n",
              "     NumberOfMajorSurgeries  PremiumPrice  \n",
              "0                         0         25000  \n",
              "1                         0         29000  \n",
              "2                         1         23000  \n",
              "3                         2         28000  \n",
              "4                         1         23000  \n",
              "..                      ...           ...  \n",
              "981                       0         15000  \n",
              "982                       3         28000  \n",
              "983                       1         29000  \n",
              "984                       1         39000  \n",
              "985                       1         15000  \n",
              "\n",
              "[986 rows x 11 columns]"
            ],
            "text/html": [
              "\n",
              "  <div id=\"df-d280e471-1c1f-48a6-8e7f-8e4d53bee65c\" class=\"colab-df-container\">\n",
              "    <div>\n",
              "<style scoped>\n",
              "    .dataframe tbody tr th:only-of-type {\n",
              "        vertical-align: middle;\n",
              "    }\n",
              "\n",
              "    .dataframe tbody tr th {\n",
              "        vertical-align: top;\n",
              "    }\n",
              "\n",
              "    .dataframe thead th {\n",
              "        text-align: right;\n",
              "    }\n",
              "</style>\n",
              "<table border=\"1\" class=\"dataframe\">\n",
              "  <thead>\n",
              "    <tr style=\"text-align: right;\">\n",
              "      <th></th>\n",
              "      <th>Age</th>\n",
              "      <th>Diabetes</th>\n",
              "      <th>BloodPressureProblems</th>\n",
              "      <th>AnyTransplants</th>\n",
              "      <th>AnyChronicDiseases</th>\n",
              "      <th>Height</th>\n",
              "      <th>Weight</th>\n",
              "      <th>KnownAllergies</th>\n",
              "      <th>HistoryOfCancerInFamily</th>\n",
              "      <th>NumberOfMajorSurgeries</th>\n",
              "      <th>PremiumPrice</th>\n",
              "    </tr>\n",
              "  </thead>\n",
              "  <tbody>\n",
              "    <tr>\n",
              "      <th>0</th>\n",
              "      <td>45</td>\n",
              "      <td>0</td>\n",
              "      <td>0</td>\n",
              "      <td>0</td>\n",
              "      <td>0</td>\n",
              "      <td>155</td>\n",
              "      <td>57</td>\n",
              "      <td>0</td>\n",
              "      <td>0</td>\n",
              "      <td>0</td>\n",
              "      <td>25000</td>\n",
              "    </tr>\n",
              "    <tr>\n",
              "      <th>1</th>\n",
              "      <td>60</td>\n",
              "      <td>1</td>\n",
              "      <td>0</td>\n",
              "      <td>0</td>\n",
              "      <td>0</td>\n",
              "      <td>180</td>\n",
              "      <td>73</td>\n",
              "      <td>0</td>\n",
              "      <td>0</td>\n",
              "      <td>0</td>\n",
              "      <td>29000</td>\n",
              "    </tr>\n",
              "    <tr>\n",
              "      <th>2</th>\n",
              "      <td>36</td>\n",
              "      <td>1</td>\n",
              "      <td>1</td>\n",
              "      <td>0</td>\n",
              "      <td>0</td>\n",
              "      <td>158</td>\n",
              "      <td>59</td>\n",
              "      <td>0</td>\n",
              "      <td>0</td>\n",
              "      <td>1</td>\n",
              "      <td>23000</td>\n",
              "    </tr>\n",
              "    <tr>\n",
              "      <th>3</th>\n",
              "      <td>52</td>\n",
              "      <td>1</td>\n",
              "      <td>1</td>\n",
              "      <td>0</td>\n",
              "      <td>1</td>\n",
              "      <td>183</td>\n",
              "      <td>93</td>\n",
              "      <td>0</td>\n",
              "      <td>0</td>\n",
              "      <td>2</td>\n",
              "      <td>28000</td>\n",
              "    </tr>\n",
              "    <tr>\n",
              "      <th>4</th>\n",
              "      <td>38</td>\n",
              "      <td>0</td>\n",
              "      <td>0</td>\n",
              "      <td>0</td>\n",
              "      <td>1</td>\n",
              "      <td>166</td>\n",
              "      <td>88</td>\n",
              "      <td>0</td>\n",
              "      <td>0</td>\n",
              "      <td>1</td>\n",
              "      <td>23000</td>\n",
              "    </tr>\n",
              "    <tr>\n",
              "      <th>...</th>\n",
              "      <td>...</td>\n",
              "      <td>...</td>\n",
              "      <td>...</td>\n",
              "      <td>...</td>\n",
              "      <td>...</td>\n",
              "      <td>...</td>\n",
              "      <td>...</td>\n",
              "      <td>...</td>\n",
              "      <td>...</td>\n",
              "      <td>...</td>\n",
              "      <td>...</td>\n",
              "    </tr>\n",
              "    <tr>\n",
              "      <th>981</th>\n",
              "      <td>18</td>\n",
              "      <td>0</td>\n",
              "      <td>0</td>\n",
              "      <td>0</td>\n",
              "      <td>0</td>\n",
              "      <td>169</td>\n",
              "      <td>67</td>\n",
              "      <td>0</td>\n",
              "      <td>0</td>\n",
              "      <td>0</td>\n",
              "      <td>15000</td>\n",
              "    </tr>\n",
              "    <tr>\n",
              "      <th>982</th>\n",
              "      <td>64</td>\n",
              "      <td>1</td>\n",
              "      <td>1</td>\n",
              "      <td>0</td>\n",
              "      <td>0</td>\n",
              "      <td>153</td>\n",
              "      <td>70</td>\n",
              "      <td>0</td>\n",
              "      <td>0</td>\n",
              "      <td>3</td>\n",
              "      <td>28000</td>\n",
              "    </tr>\n",
              "    <tr>\n",
              "      <th>983</th>\n",
              "      <td>56</td>\n",
              "      <td>0</td>\n",
              "      <td>1</td>\n",
              "      <td>0</td>\n",
              "      <td>0</td>\n",
              "      <td>155</td>\n",
              "      <td>71</td>\n",
              "      <td>0</td>\n",
              "      <td>0</td>\n",
              "      <td>1</td>\n",
              "      <td>29000</td>\n",
              "    </tr>\n",
              "    <tr>\n",
              "      <th>984</th>\n",
              "      <td>47</td>\n",
              "      <td>1</td>\n",
              "      <td>1</td>\n",
              "      <td>0</td>\n",
              "      <td>0</td>\n",
              "      <td>158</td>\n",
              "      <td>73</td>\n",
              "      <td>1</td>\n",
              "      <td>0</td>\n",
              "      <td>1</td>\n",
              "      <td>39000</td>\n",
              "    </tr>\n",
              "    <tr>\n",
              "      <th>985</th>\n",
              "      <td>21</td>\n",
              "      <td>0</td>\n",
              "      <td>0</td>\n",
              "      <td>0</td>\n",
              "      <td>0</td>\n",
              "      <td>158</td>\n",
              "      <td>75</td>\n",
              "      <td>1</td>\n",
              "      <td>0</td>\n",
              "      <td>1</td>\n",
              "      <td>15000</td>\n",
              "    </tr>\n",
              "  </tbody>\n",
              "</table>\n",
              "<p>986 rows × 11 columns</p>\n",
              "</div>\n",
              "    <div class=\"colab-df-buttons\">\n",
              "\n",
              "  <div class=\"colab-df-container\">\n",
              "    <button class=\"colab-df-convert\" onclick=\"convertToInteractive('df-d280e471-1c1f-48a6-8e7f-8e4d53bee65c')\"\n",
              "            title=\"Convert this dataframe to an interactive table.\"\n",
              "            style=\"display:none;\">\n",
              "\n",
              "  <svg xmlns=\"http://www.w3.org/2000/svg\" height=\"24px\" viewBox=\"0 -960 960 960\">\n",
              "    <path d=\"M120-120v-720h720v720H120Zm60-500h600v-160H180v160Zm220 220h160v-160H400v160Zm0 220h160v-160H400v160ZM180-400h160v-160H180v160Zm440 0h160v-160H620v160ZM180-180h160v-160H180v160Zm440 0h160v-160H620v160Z\"/>\n",
              "  </svg>\n",
              "    </button>\n",
              "\n",
              "  <style>\n",
              "    .colab-df-container {\n",
              "      display:flex;\n",
              "      gap: 12px;\n",
              "    }\n",
              "\n",
              "    .colab-df-convert {\n",
              "      background-color: #E8F0FE;\n",
              "      border: none;\n",
              "      border-radius: 50%;\n",
              "      cursor: pointer;\n",
              "      display: none;\n",
              "      fill: #1967D2;\n",
              "      height: 32px;\n",
              "      padding: 0 0 0 0;\n",
              "      width: 32px;\n",
              "    }\n",
              "\n",
              "    .colab-df-convert:hover {\n",
              "      background-color: #E2EBFA;\n",
              "      box-shadow: 0px 1px 2px rgba(60, 64, 67, 0.3), 0px 1px 3px 1px rgba(60, 64, 67, 0.15);\n",
              "      fill: #174EA6;\n",
              "    }\n",
              "\n",
              "    .colab-df-buttons div {\n",
              "      margin-bottom: 4px;\n",
              "    }\n",
              "\n",
              "    [theme=dark] .colab-df-convert {\n",
              "      background-color: #3B4455;\n",
              "      fill: #D2E3FC;\n",
              "    }\n",
              "\n",
              "    [theme=dark] .colab-df-convert:hover {\n",
              "      background-color: #434B5C;\n",
              "      box-shadow: 0px 1px 3px 1px rgba(0, 0, 0, 0.15);\n",
              "      filter: drop-shadow(0px 1px 2px rgba(0, 0, 0, 0.3));\n",
              "      fill: #FFFFFF;\n",
              "    }\n",
              "  </style>\n",
              "\n",
              "    <script>\n",
              "      const buttonEl =\n",
              "        document.querySelector('#df-d280e471-1c1f-48a6-8e7f-8e4d53bee65c button.colab-df-convert');\n",
              "      buttonEl.style.display =\n",
              "        google.colab.kernel.accessAllowed ? 'block' : 'none';\n",
              "\n",
              "      async function convertToInteractive(key) {\n",
              "        const element = document.querySelector('#df-d280e471-1c1f-48a6-8e7f-8e4d53bee65c');\n",
              "        const dataTable =\n",
              "          await google.colab.kernel.invokeFunction('convertToInteractive',\n",
              "                                                    [key], {});\n",
              "        if (!dataTable) return;\n",
              "\n",
              "        const docLinkHtml = 'Like what you see? Visit the ' +\n",
              "          '<a target=\"_blank\" href=https://colab.research.google.com/notebooks/data_table.ipynb>data table notebook</a>'\n",
              "          + ' to learn more about interactive tables.';\n",
              "        element.innerHTML = '';\n",
              "        dataTable['output_type'] = 'display_data';\n",
              "        await google.colab.output.renderOutput(dataTable, element);\n",
              "        const docLink = document.createElement('div');\n",
              "        docLink.innerHTML = docLinkHtml;\n",
              "        element.appendChild(docLink);\n",
              "      }\n",
              "    </script>\n",
              "  </div>\n",
              "\n",
              "\n",
              "<div id=\"df-b31917e7-61e4-4f17-a536-02478d7949df\">\n",
              "  <button class=\"colab-df-quickchart\" onclick=\"quickchart('df-b31917e7-61e4-4f17-a536-02478d7949df')\"\n",
              "            title=\"Suggest charts\"\n",
              "            style=\"display:none;\">\n",
              "\n",
              "<svg xmlns=\"http://www.w3.org/2000/svg\" height=\"24px\"viewBox=\"0 0 24 24\"\n",
              "     width=\"24px\">\n",
              "    <g>\n",
              "        <path d=\"M19 3H5c-1.1 0-2 .9-2 2v14c0 1.1.9 2 2 2h14c1.1 0 2-.9 2-2V5c0-1.1-.9-2-2-2zM9 17H7v-7h2v7zm4 0h-2V7h2v10zm4 0h-2v-4h2v4z\"/>\n",
              "    </g>\n",
              "</svg>\n",
              "  </button>\n",
              "\n",
              "<style>\n",
              "  .colab-df-quickchart {\n",
              "      --bg-color: #E8F0FE;\n",
              "      --fill-color: #1967D2;\n",
              "      --hover-bg-color: #E2EBFA;\n",
              "      --hover-fill-color: #174EA6;\n",
              "      --disabled-fill-color: #AAA;\n",
              "      --disabled-bg-color: #DDD;\n",
              "  }\n",
              "\n",
              "  [theme=dark] .colab-df-quickchart {\n",
              "      --bg-color: #3B4455;\n",
              "      --fill-color: #D2E3FC;\n",
              "      --hover-bg-color: #434B5C;\n",
              "      --hover-fill-color: #FFFFFF;\n",
              "      --disabled-bg-color: #3B4455;\n",
              "      --disabled-fill-color: #666;\n",
              "  }\n",
              "\n",
              "  .colab-df-quickchart {\n",
              "    background-color: var(--bg-color);\n",
              "    border: none;\n",
              "    border-radius: 50%;\n",
              "    cursor: pointer;\n",
              "    display: none;\n",
              "    fill: var(--fill-color);\n",
              "    height: 32px;\n",
              "    padding: 0;\n",
              "    width: 32px;\n",
              "  }\n",
              "\n",
              "  .colab-df-quickchart:hover {\n",
              "    background-color: var(--hover-bg-color);\n",
              "    box-shadow: 0 1px 2px rgba(60, 64, 67, 0.3), 0 1px 3px 1px rgba(60, 64, 67, 0.15);\n",
              "    fill: var(--button-hover-fill-color);\n",
              "  }\n",
              "\n",
              "  .colab-df-quickchart-complete:disabled,\n",
              "  .colab-df-quickchart-complete:disabled:hover {\n",
              "    background-color: var(--disabled-bg-color);\n",
              "    fill: var(--disabled-fill-color);\n",
              "    box-shadow: none;\n",
              "  }\n",
              "\n",
              "  .colab-df-spinner {\n",
              "    border: 2px solid var(--fill-color);\n",
              "    border-color: transparent;\n",
              "    border-bottom-color: var(--fill-color);\n",
              "    animation:\n",
              "      spin 1s steps(1) infinite;\n",
              "  }\n",
              "\n",
              "  @keyframes spin {\n",
              "    0% {\n",
              "      border-color: transparent;\n",
              "      border-bottom-color: var(--fill-color);\n",
              "      border-left-color: var(--fill-color);\n",
              "    }\n",
              "    20% {\n",
              "      border-color: transparent;\n",
              "      border-left-color: var(--fill-color);\n",
              "      border-top-color: var(--fill-color);\n",
              "    }\n",
              "    30% {\n",
              "      border-color: transparent;\n",
              "      border-left-color: var(--fill-color);\n",
              "      border-top-color: var(--fill-color);\n",
              "      border-right-color: var(--fill-color);\n",
              "    }\n",
              "    40% {\n",
              "      border-color: transparent;\n",
              "      border-right-color: var(--fill-color);\n",
              "      border-top-color: var(--fill-color);\n",
              "    }\n",
              "    60% {\n",
              "      border-color: transparent;\n",
              "      border-right-color: var(--fill-color);\n",
              "    }\n",
              "    80% {\n",
              "      border-color: transparent;\n",
              "      border-right-color: var(--fill-color);\n",
              "      border-bottom-color: var(--fill-color);\n",
              "    }\n",
              "    90% {\n",
              "      border-color: transparent;\n",
              "      border-bottom-color: var(--fill-color);\n",
              "    }\n",
              "  }\n",
              "</style>\n",
              "\n",
              "  <script>\n",
              "    async function quickchart(key) {\n",
              "      const quickchartButtonEl =\n",
              "        document.querySelector('#' + key + ' button');\n",
              "      quickchartButtonEl.disabled = true;  // To prevent multiple clicks.\n",
              "      quickchartButtonEl.classList.add('colab-df-spinner');\n",
              "      try {\n",
              "        const charts = await google.colab.kernel.invokeFunction(\n",
              "            'suggestCharts', [key], {});\n",
              "      } catch (error) {\n",
              "        console.error('Error during call to suggestCharts:', error);\n",
              "      }\n",
              "      quickchartButtonEl.classList.remove('colab-df-spinner');\n",
              "      quickchartButtonEl.classList.add('colab-df-quickchart-complete');\n",
              "    }\n",
              "    (() => {\n",
              "      let quickchartButtonEl =\n",
              "        document.querySelector('#df-b31917e7-61e4-4f17-a536-02478d7949df button');\n",
              "      quickchartButtonEl.style.display =\n",
              "        google.colab.kernel.accessAllowed ? 'block' : 'none';\n",
              "    })();\n",
              "  </script>\n",
              "</div>\n",
              "\n",
              "  <div id=\"id_41e7980a-4d9d-476f-83b7-4c1146b5f5ac\">\n",
              "    <style>\n",
              "      .colab-df-generate {\n",
              "        background-color: #E8F0FE;\n",
              "        border: none;\n",
              "        border-radius: 50%;\n",
              "        cursor: pointer;\n",
              "        display: none;\n",
              "        fill: #1967D2;\n",
              "        height: 32px;\n",
              "        padding: 0 0 0 0;\n",
              "        width: 32px;\n",
              "      }\n",
              "\n",
              "      .colab-df-generate:hover {\n",
              "        background-color: #E2EBFA;\n",
              "        box-shadow: 0px 1px 2px rgba(60, 64, 67, 0.3), 0px 1px 3px 1px rgba(60, 64, 67, 0.15);\n",
              "        fill: #174EA6;\n",
              "      }\n",
              "\n",
              "      [theme=dark] .colab-df-generate {\n",
              "        background-color: #3B4455;\n",
              "        fill: #D2E3FC;\n",
              "      }\n",
              "\n",
              "      [theme=dark] .colab-df-generate:hover {\n",
              "        background-color: #434B5C;\n",
              "        box-shadow: 0px 1px 3px 1px rgba(0, 0, 0, 0.15);\n",
              "        filter: drop-shadow(0px 1px 2px rgba(0, 0, 0, 0.3));\n",
              "        fill: #FFFFFF;\n",
              "      }\n",
              "    </style>\n",
              "    <button class=\"colab-df-generate\" onclick=\"generateWithVariable('df')\"\n",
              "            title=\"Generate code using this dataframe.\"\n",
              "            style=\"display:none;\">\n",
              "\n",
              "  <svg xmlns=\"http://www.w3.org/2000/svg\" height=\"24px\"viewBox=\"0 0 24 24\"\n",
              "       width=\"24px\">\n",
              "    <path d=\"M7,19H8.4L18.45,9,17,7.55,7,17.6ZM5,21V16.75L18.45,3.32a2,2,0,0,1,2.83,0l1.4,1.43a1.91,1.91,0,0,1,.58,1.4,1.91,1.91,0,0,1-.58,1.4L9.25,21ZM18.45,9,17,7.55Zm-12,3A5.31,5.31,0,0,0,4.9,8.1,5.31,5.31,0,0,0,1,6.5,5.31,5.31,0,0,0,4.9,4.9,5.31,5.31,0,0,0,6.5,1,5.31,5.31,0,0,0,8.1,4.9,5.31,5.31,0,0,0,12,6.5,5.46,5.46,0,0,0,6.5,12Z\"/>\n",
              "  </svg>\n",
              "    </button>\n",
              "    <script>\n",
              "      (() => {\n",
              "      const buttonEl =\n",
              "        document.querySelector('#id_41e7980a-4d9d-476f-83b7-4c1146b5f5ac button.colab-df-generate');\n",
              "      buttonEl.style.display =\n",
              "        google.colab.kernel.accessAllowed ? 'block' : 'none';\n",
              "\n",
              "      buttonEl.onclick = () => {\n",
              "        google.colab.notebook.generateWithVariable('df');\n",
              "      }\n",
              "      })();\n",
              "    </script>\n",
              "  </div>\n",
              "\n",
              "    </div>\n",
              "  </div>\n"
            ],
            "application/vnd.google.colaboratory.intrinsic+json": {
              "type": "dataframe",
              "variable_name": "df",
              "summary": "{\n  \"name\": \"df\",\n  \"rows\": 986,\n  \"fields\": [\n    {\n      \"column\": \"Age\",\n      \"properties\": {\n        \"dtype\": \"number\",\n        \"std\": 13,\n        \"min\": 18,\n        \"max\": 66,\n        \"num_unique_values\": 49,\n        \"samples\": [\n          42,\n          51,\n          62\n        ],\n        \"semantic_type\": \"\",\n        \"description\": \"\"\n      }\n    },\n    {\n      \"column\": \"Diabetes\",\n      \"properties\": {\n        \"dtype\": \"number\",\n        \"std\": 0,\n        \"min\": 0,\n        \"max\": 1,\n        \"num_unique_values\": 2,\n        \"samples\": [\n          1,\n          0\n        ],\n        \"semantic_type\": \"\",\n        \"description\": \"\"\n      }\n    },\n    {\n      \"column\": \"BloodPressureProblems\",\n      \"properties\": {\n        \"dtype\": \"number\",\n        \"std\": 0,\n        \"min\": 0,\n        \"max\": 1,\n        \"num_unique_values\": 2,\n        \"samples\": [\n          1,\n          0\n        ],\n        \"semantic_type\": \"\",\n        \"description\": \"\"\n      }\n    },\n    {\n      \"column\": \"AnyTransplants\",\n      \"properties\": {\n        \"dtype\": \"number\",\n        \"std\": 0,\n        \"min\": 0,\n        \"max\": 1,\n        \"num_unique_values\": 2,\n        \"samples\": [\n          1,\n          0\n        ],\n        \"semantic_type\": \"\",\n        \"description\": \"\"\n      }\n    },\n    {\n      \"column\": \"AnyChronicDiseases\",\n      \"properties\": {\n        \"dtype\": \"number\",\n        \"std\": 0,\n        \"min\": 0,\n        \"max\": 1,\n        \"num_unique_values\": 2,\n        \"samples\": [\n          1,\n          0\n        ],\n        \"semantic_type\": \"\",\n        \"description\": \"\"\n      }\n    },\n    {\n      \"column\": \"Height\",\n      \"properties\": {\n        \"dtype\": \"number\",\n        \"std\": 10,\n        \"min\": 145,\n        \"max\": 188,\n        \"num_unique_values\": 44,\n        \"samples\": [\n          167,\n          161\n        ],\n        \"semantic_type\": \"\",\n        \"description\": \"\"\n      }\n    },\n    {\n      \"column\": \"Weight\",\n      \"properties\": {\n        \"dtype\": \"number\",\n        \"std\": 14,\n        \"min\": 51,\n        \"max\": 132,\n        \"num_unique_values\": 74,\n        \"samples\": [\n          88,\n          123\n        ],\n        \"semantic_type\": \"\",\n        \"description\": \"\"\n      }\n    },\n    {\n      \"column\": \"KnownAllergies\",\n      \"properties\": {\n        \"dtype\": \"number\",\n        \"std\": 0,\n        \"min\": 0,\n        \"max\": 1,\n        \"num_unique_values\": 2,\n        \"samples\": [\n          1,\n          0\n        ],\n        \"semantic_type\": \"\",\n        \"description\": \"\"\n      }\n    },\n    {\n      \"column\": \"HistoryOfCancerInFamily\",\n      \"properties\": {\n        \"dtype\": \"number\",\n        \"std\": 0,\n        \"min\": 0,\n        \"max\": 1,\n        \"num_unique_values\": 2,\n        \"samples\": [\n          1,\n          0\n        ],\n        \"semantic_type\": \"\",\n        \"description\": \"\"\n      }\n    },\n    {\n      \"column\": \"NumberOfMajorSurgeries\",\n      \"properties\": {\n        \"dtype\": \"number\",\n        \"std\": 0,\n        \"min\": 0,\n        \"max\": 3,\n        \"num_unique_values\": 4,\n        \"samples\": [\n          1,\n          3\n        ],\n        \"semantic_type\": \"\",\n        \"description\": \"\"\n      }\n    },\n    {\n      \"column\": \"PremiumPrice\",\n      \"properties\": {\n        \"dtype\": \"number\",\n        \"std\": 6248,\n        \"min\": 15000,\n        \"max\": 40000,\n        \"num_unique_values\": 24,\n        \"samples\": [\n          32000,\n          40000\n        ],\n        \"semantic_type\": \"\",\n        \"description\": \"\"\n      }\n    }\n  ]\n}"
            }
          },
          "metadata": {},
          "execution_count": 5
        }
      ],
      "source": [
        "df"
      ]
    },
    {
      "cell_type": "code",
      "execution_count": null,
      "metadata": {
        "colab": {
          "base_uri": "https://localhost:8080/"
        },
        "id": "iWgOxcRq64Cx",
        "outputId": "9ef96194-6d8c-415c-abb3-7e1eb44eca3d"
      },
      "outputs": [
        {
          "output_type": "execute_result",
          "data": {
            "text/plain": [
              "False"
            ]
          },
          "metadata": {},
          "execution_count": 6
        }
      ],
      "source": [
        "# Check for NaN (there's none, yay!)\n",
        "df.isnull().values.any()"
      ]
    },
    {
      "cell_type": "code",
      "execution_count": null,
      "metadata": {
        "colab": {
          "base_uri": "https://localhost:8080/"
        },
        "id": "FqzTMx3V8V0d",
        "outputId": "76067d7b-ff36-4610-a12c-5e02df5869bf"
      },
      "outputs": [
        {
          "output_type": "stream",
          "name": "stdout",
          "text": [
            "Column 'Age' has data type: int64\n",
            "Column 'Diabetes' has data type: int64\n",
            "Column 'BloodPressureProblems' has data type: int64\n",
            "Column 'AnyTransplants' has data type: int64\n",
            "Column 'AnyChronicDiseases' has data type: int64\n",
            "Column 'Height' has data type: int64\n",
            "Column 'Weight' has data type: int64\n",
            "Column 'KnownAllergies' has data type: int64\n",
            "Column 'HistoryOfCancerInFamily' has data type: int64\n",
            "Column 'NumberOfMajorSurgeries' has data type: int64\n",
            "Column 'PremiumPrice' has data type: int64\n"
          ]
        }
      ],
      "source": [
        "# For loop to print the type of each column\n",
        "for col in df.columns:\n",
        "    print(f\"Column '{col}' has data type: {df[col].dtype}\")"
      ]
    },
    {
      "cell_type": "code",
      "execution_count": null,
      "metadata": {
        "colab": {
          "base_uri": "https://localhost:8080/"
        },
        "id": "4_n1v8ltP0n8",
        "outputId": "9e938be5-9f7c-4f45-850e-4fd865c7526c"
      },
      "outputs": [
        {
          "output_type": "stream",
          "name": "stdout",
          "text": [
            "<class 'pandas.core.frame.DataFrame'>\n",
            "RangeIndex: 986 entries, 0 to 985\n",
            "Data columns (total 11 columns):\n",
            " #   Column                   Non-Null Count  Dtype\n",
            "---  ------                   --------------  -----\n",
            " 0   Age                      986 non-null    int64\n",
            " 1   Diabetes                 986 non-null    int64\n",
            " 2   BloodPressureProblems    986 non-null    int64\n",
            " 3   AnyTransplants           986 non-null    int64\n",
            " 4   AnyChronicDiseases       986 non-null    int64\n",
            " 5   Height                   986 non-null    int64\n",
            " 6   Weight                   986 non-null    int64\n",
            " 7   KnownAllergies           986 non-null    int64\n",
            " 8   HistoryOfCancerInFamily  986 non-null    int64\n",
            " 9   NumberOfMajorSurgeries   986 non-null    int64\n",
            " 10  PremiumPrice             986 non-null    int64\n",
            "dtypes: int64(11)\n",
            "memory usage: 84.9 KB\n"
          ]
        }
      ],
      "source": [
        "df.info()"
      ]
    },
    {
      "cell_type": "code",
      "execution_count": null,
      "metadata": {
        "colab": {
          "base_uri": "https://localhost:8080/",
          "height": 320
        },
        "id": "LrkiEsVs8H60",
        "outputId": "9cb38d72-c964-49ea-d8b6-ebcbfa94fe91"
      },
      "outputs": [
        {
          "output_type": "execute_result",
          "data": {
            "text/plain": [
              "              Age    Diabetes  BloodPressureProblems  AnyTransplants  \\\n",
              "count  986.000000  986.000000             986.000000      986.000000   \n",
              "mean    41.745436    0.419878               0.468560        0.055781   \n",
              "std     13.963371    0.493789               0.499264        0.229615   \n",
              "min     18.000000    0.000000               0.000000        0.000000   \n",
              "25%     30.000000    0.000000               0.000000        0.000000   \n",
              "50%     42.000000    0.000000               0.000000        0.000000   \n",
              "75%     53.000000    1.000000               1.000000        0.000000   \n",
              "max     66.000000    1.000000               1.000000        1.000000   \n",
              "\n",
              "       AnyChronicDiseases      Height      Weight  KnownAllergies  \\\n",
              "count          986.000000  986.000000  986.000000      986.000000   \n",
              "mean             0.180527  168.182556   76.950304        0.215010   \n",
              "std              0.384821   10.098155   14.265096        0.411038   \n",
              "min              0.000000  145.000000   51.000000        0.000000   \n",
              "25%              0.000000  161.000000   67.000000        0.000000   \n",
              "50%              0.000000  168.000000   75.000000        0.000000   \n",
              "75%              0.000000  176.000000   87.000000        0.000000   \n",
              "max              1.000000  188.000000  132.000000        1.000000   \n",
              "\n",
              "       HistoryOfCancerInFamily  NumberOfMajorSurgeries  PremiumPrice  \n",
              "count               986.000000              986.000000    986.000000  \n",
              "mean                  0.117647                0.667343  24336.713996  \n",
              "std                   0.322353                0.749205   6248.184382  \n",
              "min                   0.000000                0.000000  15000.000000  \n",
              "25%                   0.000000                0.000000  21000.000000  \n",
              "50%                   0.000000                1.000000  23000.000000  \n",
              "75%                   0.000000                1.000000  28000.000000  \n",
              "max                   1.000000                3.000000  40000.000000  "
            ],
            "text/html": [
              "\n",
              "  <div id=\"df-117c3bff-6639-4f4d-9e99-5af809602d5f\" class=\"colab-df-container\">\n",
              "    <div>\n",
              "<style scoped>\n",
              "    .dataframe tbody tr th:only-of-type {\n",
              "        vertical-align: middle;\n",
              "    }\n",
              "\n",
              "    .dataframe tbody tr th {\n",
              "        vertical-align: top;\n",
              "    }\n",
              "\n",
              "    .dataframe thead th {\n",
              "        text-align: right;\n",
              "    }\n",
              "</style>\n",
              "<table border=\"1\" class=\"dataframe\">\n",
              "  <thead>\n",
              "    <tr style=\"text-align: right;\">\n",
              "      <th></th>\n",
              "      <th>Age</th>\n",
              "      <th>Diabetes</th>\n",
              "      <th>BloodPressureProblems</th>\n",
              "      <th>AnyTransplants</th>\n",
              "      <th>AnyChronicDiseases</th>\n",
              "      <th>Height</th>\n",
              "      <th>Weight</th>\n",
              "      <th>KnownAllergies</th>\n",
              "      <th>HistoryOfCancerInFamily</th>\n",
              "      <th>NumberOfMajorSurgeries</th>\n",
              "      <th>PremiumPrice</th>\n",
              "    </tr>\n",
              "  </thead>\n",
              "  <tbody>\n",
              "    <tr>\n",
              "      <th>count</th>\n",
              "      <td>986.000000</td>\n",
              "      <td>986.000000</td>\n",
              "      <td>986.000000</td>\n",
              "      <td>986.000000</td>\n",
              "      <td>986.000000</td>\n",
              "      <td>986.000000</td>\n",
              "      <td>986.000000</td>\n",
              "      <td>986.000000</td>\n",
              "      <td>986.000000</td>\n",
              "      <td>986.000000</td>\n",
              "      <td>986.000000</td>\n",
              "    </tr>\n",
              "    <tr>\n",
              "      <th>mean</th>\n",
              "      <td>41.745436</td>\n",
              "      <td>0.419878</td>\n",
              "      <td>0.468560</td>\n",
              "      <td>0.055781</td>\n",
              "      <td>0.180527</td>\n",
              "      <td>168.182556</td>\n",
              "      <td>76.950304</td>\n",
              "      <td>0.215010</td>\n",
              "      <td>0.117647</td>\n",
              "      <td>0.667343</td>\n",
              "      <td>24336.713996</td>\n",
              "    </tr>\n",
              "    <tr>\n",
              "      <th>std</th>\n",
              "      <td>13.963371</td>\n",
              "      <td>0.493789</td>\n",
              "      <td>0.499264</td>\n",
              "      <td>0.229615</td>\n",
              "      <td>0.384821</td>\n",
              "      <td>10.098155</td>\n",
              "      <td>14.265096</td>\n",
              "      <td>0.411038</td>\n",
              "      <td>0.322353</td>\n",
              "      <td>0.749205</td>\n",
              "      <td>6248.184382</td>\n",
              "    </tr>\n",
              "    <tr>\n",
              "      <th>min</th>\n",
              "      <td>18.000000</td>\n",
              "      <td>0.000000</td>\n",
              "      <td>0.000000</td>\n",
              "      <td>0.000000</td>\n",
              "      <td>0.000000</td>\n",
              "      <td>145.000000</td>\n",
              "      <td>51.000000</td>\n",
              "      <td>0.000000</td>\n",
              "      <td>0.000000</td>\n",
              "      <td>0.000000</td>\n",
              "      <td>15000.000000</td>\n",
              "    </tr>\n",
              "    <tr>\n",
              "      <th>25%</th>\n",
              "      <td>30.000000</td>\n",
              "      <td>0.000000</td>\n",
              "      <td>0.000000</td>\n",
              "      <td>0.000000</td>\n",
              "      <td>0.000000</td>\n",
              "      <td>161.000000</td>\n",
              "      <td>67.000000</td>\n",
              "      <td>0.000000</td>\n",
              "      <td>0.000000</td>\n",
              "      <td>0.000000</td>\n",
              "      <td>21000.000000</td>\n",
              "    </tr>\n",
              "    <tr>\n",
              "      <th>50%</th>\n",
              "      <td>42.000000</td>\n",
              "      <td>0.000000</td>\n",
              "      <td>0.000000</td>\n",
              "      <td>0.000000</td>\n",
              "      <td>0.000000</td>\n",
              "      <td>168.000000</td>\n",
              "      <td>75.000000</td>\n",
              "      <td>0.000000</td>\n",
              "      <td>0.000000</td>\n",
              "      <td>1.000000</td>\n",
              "      <td>23000.000000</td>\n",
              "    </tr>\n",
              "    <tr>\n",
              "      <th>75%</th>\n",
              "      <td>53.000000</td>\n",
              "      <td>1.000000</td>\n",
              "      <td>1.000000</td>\n",
              "      <td>0.000000</td>\n",
              "      <td>0.000000</td>\n",
              "      <td>176.000000</td>\n",
              "      <td>87.000000</td>\n",
              "      <td>0.000000</td>\n",
              "      <td>0.000000</td>\n",
              "      <td>1.000000</td>\n",
              "      <td>28000.000000</td>\n",
              "    </tr>\n",
              "    <tr>\n",
              "      <th>max</th>\n",
              "      <td>66.000000</td>\n",
              "      <td>1.000000</td>\n",
              "      <td>1.000000</td>\n",
              "      <td>1.000000</td>\n",
              "      <td>1.000000</td>\n",
              "      <td>188.000000</td>\n",
              "      <td>132.000000</td>\n",
              "      <td>1.000000</td>\n",
              "      <td>1.000000</td>\n",
              "      <td>3.000000</td>\n",
              "      <td>40000.000000</td>\n",
              "    </tr>\n",
              "  </tbody>\n",
              "</table>\n",
              "</div>\n",
              "    <div class=\"colab-df-buttons\">\n",
              "\n",
              "  <div class=\"colab-df-container\">\n",
              "    <button class=\"colab-df-convert\" onclick=\"convertToInteractive('df-117c3bff-6639-4f4d-9e99-5af809602d5f')\"\n",
              "            title=\"Convert this dataframe to an interactive table.\"\n",
              "            style=\"display:none;\">\n",
              "\n",
              "  <svg xmlns=\"http://www.w3.org/2000/svg\" height=\"24px\" viewBox=\"0 -960 960 960\">\n",
              "    <path d=\"M120-120v-720h720v720H120Zm60-500h600v-160H180v160Zm220 220h160v-160H400v160Zm0 220h160v-160H400v160ZM180-400h160v-160H180v160Zm440 0h160v-160H620v160ZM180-180h160v-160H180v160Zm440 0h160v-160H620v160Z\"/>\n",
              "  </svg>\n",
              "    </button>\n",
              "\n",
              "  <style>\n",
              "    .colab-df-container {\n",
              "      display:flex;\n",
              "      gap: 12px;\n",
              "    }\n",
              "\n",
              "    .colab-df-convert {\n",
              "      background-color: #E8F0FE;\n",
              "      border: none;\n",
              "      border-radius: 50%;\n",
              "      cursor: pointer;\n",
              "      display: none;\n",
              "      fill: #1967D2;\n",
              "      height: 32px;\n",
              "      padding: 0 0 0 0;\n",
              "      width: 32px;\n",
              "    }\n",
              "\n",
              "    .colab-df-convert:hover {\n",
              "      background-color: #E2EBFA;\n",
              "      box-shadow: 0px 1px 2px rgba(60, 64, 67, 0.3), 0px 1px 3px 1px rgba(60, 64, 67, 0.15);\n",
              "      fill: #174EA6;\n",
              "    }\n",
              "\n",
              "    .colab-df-buttons div {\n",
              "      margin-bottom: 4px;\n",
              "    }\n",
              "\n",
              "    [theme=dark] .colab-df-convert {\n",
              "      background-color: #3B4455;\n",
              "      fill: #D2E3FC;\n",
              "    }\n",
              "\n",
              "    [theme=dark] .colab-df-convert:hover {\n",
              "      background-color: #434B5C;\n",
              "      box-shadow: 0px 1px 3px 1px rgba(0, 0, 0, 0.15);\n",
              "      filter: drop-shadow(0px 1px 2px rgba(0, 0, 0, 0.3));\n",
              "      fill: #FFFFFF;\n",
              "    }\n",
              "  </style>\n",
              "\n",
              "    <script>\n",
              "      const buttonEl =\n",
              "        document.querySelector('#df-117c3bff-6639-4f4d-9e99-5af809602d5f button.colab-df-convert');\n",
              "      buttonEl.style.display =\n",
              "        google.colab.kernel.accessAllowed ? 'block' : 'none';\n",
              "\n",
              "      async function convertToInteractive(key) {\n",
              "        const element = document.querySelector('#df-117c3bff-6639-4f4d-9e99-5af809602d5f');\n",
              "        const dataTable =\n",
              "          await google.colab.kernel.invokeFunction('convertToInteractive',\n",
              "                                                    [key], {});\n",
              "        if (!dataTable) return;\n",
              "\n",
              "        const docLinkHtml = 'Like what you see? Visit the ' +\n",
              "          '<a target=\"_blank\" href=https://colab.research.google.com/notebooks/data_table.ipynb>data table notebook</a>'\n",
              "          + ' to learn more about interactive tables.';\n",
              "        element.innerHTML = '';\n",
              "        dataTable['output_type'] = 'display_data';\n",
              "        await google.colab.output.renderOutput(dataTable, element);\n",
              "        const docLink = document.createElement('div');\n",
              "        docLink.innerHTML = docLinkHtml;\n",
              "        element.appendChild(docLink);\n",
              "      }\n",
              "    </script>\n",
              "  </div>\n",
              "\n",
              "\n",
              "<div id=\"df-c1af98b6-0783-4c75-b1ac-d65f2ff6f693\">\n",
              "  <button class=\"colab-df-quickchart\" onclick=\"quickchart('df-c1af98b6-0783-4c75-b1ac-d65f2ff6f693')\"\n",
              "            title=\"Suggest charts\"\n",
              "            style=\"display:none;\">\n",
              "\n",
              "<svg xmlns=\"http://www.w3.org/2000/svg\" height=\"24px\"viewBox=\"0 0 24 24\"\n",
              "     width=\"24px\">\n",
              "    <g>\n",
              "        <path d=\"M19 3H5c-1.1 0-2 .9-2 2v14c0 1.1.9 2 2 2h14c1.1 0 2-.9 2-2V5c0-1.1-.9-2-2-2zM9 17H7v-7h2v7zm4 0h-2V7h2v10zm4 0h-2v-4h2v4z\"/>\n",
              "    </g>\n",
              "</svg>\n",
              "  </button>\n",
              "\n",
              "<style>\n",
              "  .colab-df-quickchart {\n",
              "      --bg-color: #E8F0FE;\n",
              "      --fill-color: #1967D2;\n",
              "      --hover-bg-color: #E2EBFA;\n",
              "      --hover-fill-color: #174EA6;\n",
              "      --disabled-fill-color: #AAA;\n",
              "      --disabled-bg-color: #DDD;\n",
              "  }\n",
              "\n",
              "  [theme=dark] .colab-df-quickchart {\n",
              "      --bg-color: #3B4455;\n",
              "      --fill-color: #D2E3FC;\n",
              "      --hover-bg-color: #434B5C;\n",
              "      --hover-fill-color: #FFFFFF;\n",
              "      --disabled-bg-color: #3B4455;\n",
              "      --disabled-fill-color: #666;\n",
              "  }\n",
              "\n",
              "  .colab-df-quickchart {\n",
              "    background-color: var(--bg-color);\n",
              "    border: none;\n",
              "    border-radius: 50%;\n",
              "    cursor: pointer;\n",
              "    display: none;\n",
              "    fill: var(--fill-color);\n",
              "    height: 32px;\n",
              "    padding: 0;\n",
              "    width: 32px;\n",
              "  }\n",
              "\n",
              "  .colab-df-quickchart:hover {\n",
              "    background-color: var(--hover-bg-color);\n",
              "    box-shadow: 0 1px 2px rgba(60, 64, 67, 0.3), 0 1px 3px 1px rgba(60, 64, 67, 0.15);\n",
              "    fill: var(--button-hover-fill-color);\n",
              "  }\n",
              "\n",
              "  .colab-df-quickchart-complete:disabled,\n",
              "  .colab-df-quickchart-complete:disabled:hover {\n",
              "    background-color: var(--disabled-bg-color);\n",
              "    fill: var(--disabled-fill-color);\n",
              "    box-shadow: none;\n",
              "  }\n",
              "\n",
              "  .colab-df-spinner {\n",
              "    border: 2px solid var(--fill-color);\n",
              "    border-color: transparent;\n",
              "    border-bottom-color: var(--fill-color);\n",
              "    animation:\n",
              "      spin 1s steps(1) infinite;\n",
              "  }\n",
              "\n",
              "  @keyframes spin {\n",
              "    0% {\n",
              "      border-color: transparent;\n",
              "      border-bottom-color: var(--fill-color);\n",
              "      border-left-color: var(--fill-color);\n",
              "    }\n",
              "    20% {\n",
              "      border-color: transparent;\n",
              "      border-left-color: var(--fill-color);\n",
              "      border-top-color: var(--fill-color);\n",
              "    }\n",
              "    30% {\n",
              "      border-color: transparent;\n",
              "      border-left-color: var(--fill-color);\n",
              "      border-top-color: var(--fill-color);\n",
              "      border-right-color: var(--fill-color);\n",
              "    }\n",
              "    40% {\n",
              "      border-color: transparent;\n",
              "      border-right-color: var(--fill-color);\n",
              "      border-top-color: var(--fill-color);\n",
              "    }\n",
              "    60% {\n",
              "      border-color: transparent;\n",
              "      border-right-color: var(--fill-color);\n",
              "    }\n",
              "    80% {\n",
              "      border-color: transparent;\n",
              "      border-right-color: var(--fill-color);\n",
              "      border-bottom-color: var(--fill-color);\n",
              "    }\n",
              "    90% {\n",
              "      border-color: transparent;\n",
              "      border-bottom-color: var(--fill-color);\n",
              "    }\n",
              "  }\n",
              "</style>\n",
              "\n",
              "  <script>\n",
              "    async function quickchart(key) {\n",
              "      const quickchartButtonEl =\n",
              "        document.querySelector('#' + key + ' button');\n",
              "      quickchartButtonEl.disabled = true;  // To prevent multiple clicks.\n",
              "      quickchartButtonEl.classList.add('colab-df-spinner');\n",
              "      try {\n",
              "        const charts = await google.colab.kernel.invokeFunction(\n",
              "            'suggestCharts', [key], {});\n",
              "      } catch (error) {\n",
              "        console.error('Error during call to suggestCharts:', error);\n",
              "      }\n",
              "      quickchartButtonEl.classList.remove('colab-df-spinner');\n",
              "      quickchartButtonEl.classList.add('colab-df-quickchart-complete');\n",
              "    }\n",
              "    (() => {\n",
              "      let quickchartButtonEl =\n",
              "        document.querySelector('#df-c1af98b6-0783-4c75-b1ac-d65f2ff6f693 button');\n",
              "      quickchartButtonEl.style.display =\n",
              "        google.colab.kernel.accessAllowed ? 'block' : 'none';\n",
              "    })();\n",
              "  </script>\n",
              "</div>\n",
              "\n",
              "    </div>\n",
              "  </div>\n"
            ],
            "application/vnd.google.colaboratory.intrinsic+json": {
              "type": "dataframe",
              "summary": "{\n  \"name\": \"# no outliers\",\n  \"rows\": 8,\n  \"fields\": [\n    {\n      \"column\": \"Age\",\n      \"properties\": {\n        \"dtype\": \"number\",\n        \"std\": 335.676841201455,\n        \"min\": 13.963371389855684,\n        \"max\": 986.0,\n        \"num_unique_values\": 8,\n        \"samples\": [\n          41.74543610547667,\n          42.0,\n          986.0\n        ],\n        \"semantic_type\": \"\",\n        \"description\": \"\"\n      }\n    },\n    {\n      \"column\": \"Diabetes\",\n      \"properties\": {\n        \"dtype\": \"number\",\n        \"std\": 348.4567281802091,\n        \"min\": 0.0,\n        \"max\": 986.0,\n        \"num_unique_values\": 5,\n        \"samples\": [\n          0.4198782961460446,\n          1.0,\n          0.49378922875253084\n        ],\n        \"semantic_type\": \"\",\n        \"description\": \"\"\n      }\n    },\n    {\n      \"column\": \"BloodPressureProblems\",\n      \"properties\": {\n        \"dtype\": \"number\",\n        \"std\": 348.45399353927854,\n        \"min\": 0.0,\n        \"max\": 986.0,\n        \"num_unique_values\": 5,\n        \"samples\": [\n          0.4685598377281947,\n          1.0,\n          0.4992637777428558\n        ],\n        \"semantic_type\": \"\",\n        \"description\": \"\"\n      }\n    },\n    {\n      \"column\": \"AnyTransplants\",\n      \"properties\": {\n        \"dtype\": \"number\",\n        \"std\": 348.53888885101446,\n        \"min\": 0.0,\n        \"max\": 986.0,\n        \"num_unique_values\": 5,\n        \"samples\": [\n          0.055780933062880324,\n          1.0,\n          0.22961465994678534\n        ],\n        \"semantic_type\": \"\",\n        \"description\": \"\"\n      }\n    },\n    {\n      \"column\": \"AnyChronicDiseases\",\n      \"properties\": {\n        \"dtype\": \"number\",\n        \"std\": 348.5247513112855,\n        \"min\": 0.0,\n        \"max\": 986.0,\n        \"num_unique_values\": 5,\n        \"samples\": [\n          0.18052738336713997,\n          1.0,\n          0.3848213056997448\n        ],\n        \"semantic_type\": \"\",\n        \"description\": \"\"\n      }\n    },\n    {\n      \"column\": \"Height\",\n      \"properties\": {\n        \"dtype\": \"number\",\n        \"std\": 302.59174270919794,\n        \"min\": 10.098154827654469,\n        \"max\": 986.0,\n        \"num_unique_values\": 8,\n        \"samples\": [\n          168.18255578093306,\n          168.0,\n          986.0\n        ],\n        \"semantic_type\": \"\",\n        \"description\": \"\"\n      }\n    },\n    {\n      \"column\": \"Weight\",\n      \"properties\": {\n        \"dtype\": \"number\",\n        \"std\": 324.8754769794885,\n        \"min\": 14.265095839082024,\n        \"max\": 986.0,\n        \"num_unique_values\": 8,\n        \"samples\": [\n          76.95030425963489,\n          75.0,\n          986.0\n        ],\n        \"semantic_type\": \"\",\n        \"description\": \"\"\n      }\n    },\n    {\n      \"column\": \"KnownAllergies\",\n      \"properties\": {\n        \"dtype\": \"number\",\n        \"std\": 348.5216869337708,\n        \"min\": 0.0,\n        \"max\": 986.0,\n        \"num_unique_values\": 5,\n        \"samples\": [\n          0.2150101419878296,\n          1.0,\n          0.4110378715845194\n        ],\n        \"semantic_type\": \"\",\n        \"description\": \"\"\n      }\n    },\n    {\n      \"column\": \"HistoryOfCancerInFamily\",\n      \"properties\": {\n        \"dtype\": \"number\",\n        \"std\": 348.5310804909083,\n        \"min\": 0.0,\n        \"max\": 986.0,\n        \"num_unique_values\": 5,\n        \"samples\": [\n          0.11764705882352941,\n          1.0,\n          0.3223532463115322\n        ],\n        \"semantic_type\": \"\",\n        \"description\": \"\"\n      }\n    },\n    {\n      \"column\": \"NumberOfMajorSurgeries\",\n      \"properties\": {\n        \"dtype\": \"number\",\n        \"std\": 348.28081468086134,\n        \"min\": 0.0,\n        \"max\": 986.0,\n        \"num_unique_values\": 6,\n        \"samples\": [\n          986.0,\n          0.6673427991886409,\n          3.0\n        ],\n        \"semantic_type\": \"\",\n        \"description\": \"\"\n      }\n    },\n    {\n      \"column\": \"PremiumPrice\",\n      \"properties\": {\n        \"dtype\": \"number\",\n        \"std\": 12353.116585570051,\n        \"min\": 986.0,\n        \"max\": 40000.0,\n        \"num_unique_values\": 8,\n        \"samples\": [\n          24336.713995943206,\n          23000.0,\n          986.0\n        ],\n        \"semantic_type\": \"\",\n        \"description\": \"\"\n      }\n    }\n  ]\n}"
            }
          },
          "metadata": {},
          "execution_count": 9
        }
      ],
      "source": [
        "df.describe() # descriptive statistics for each column\n",
        "# no outliers."
      ]
    },
    {
      "cell_type": "code",
      "execution_count": null,
      "metadata": {
        "colab": {
          "base_uri": "https://localhost:8080/"
        },
        "id": "lCMDS6_O75XF",
        "outputId": "b8c8b640-a267-45ed-d75e-6a7694a4e9eb"
      },
      "outputs": [
        {
          "output_type": "stream",
          "name": "stdout",
          "text": [
            "986\n",
            "11\n"
          ]
        }
      ],
      "source": [
        "print(df.shape[0]) # rows\n",
        "print(df.shape[1]) # cols"
      ]
    },
    {
      "cell_type": "code",
      "execution_count": null,
      "metadata": {
        "colab": {
          "base_uri": "https://localhost:8080/"
        },
        "id": "chlFtgzMP4Ie",
        "outputId": "06a75512-9190-41c7-9cd0-239a4f1d5d46"
      },
      "outputs": [
        {
          "output_type": "stream",
          "name": "stdout",
          "text": [
            "2\n",
            "2\n",
            "2\n",
            "2\n",
            "2\n",
            "2\n"
          ]
        }
      ],
      "source": [
        "# verify the below columns are all boolean of 0s and 1s\n",
        "print(df.KnownAllergies.nunique())\n",
        "print(df.Diabetes.nunique())\n",
        "print(df.BloodPressureProblems.nunique())\n",
        "print(df.AnyTransplants.nunique())\n",
        "print(df.AnyChronicDiseases.nunique())\n",
        "print(df.HistoryOfCancerInFamily.nunique())\n",
        "\n",
        "# above columns are all categorical, boolean variables (yes/no to different characteristics)\n",
        "\n",
        "# quantitative variables: number major surgeries (discrete), age (continuous), height (continuous), weight (continuous), premium price (continous)\n",
        "# note that some continuous vars here are recorded in whole numbers but they are still continuous vars by def."
      ]
    },
    {
      "cell_type": "code",
      "execution_count": null,
      "metadata": {
        "colab": {
          "base_uri": "https://localhost:8080/",
          "height": 410
        },
        "id": "Uo5XleY9-gyg",
        "outputId": "29e9a137-547a-4e9a-9ec5-0f99db61c588"
      },
      "outputs": [
        {
          "output_type": "display_data",
          "data": {
            "text/plain": [
              "<Figure size 800x400 with 1 Axes>"
            ],
            "image/png": "[encoded data removed]"
          },
          "metadata": {}
        }
      ],
      "source": [
        "import matplotlib.pyplot as plt\n",
        "plt.figure(figsize=(8, 4))\n",
        "plt.hist(df['NumberOfMajorSurgeries'], bins=range(df['NumberOfMajorSurgeries'].min(), df['NumberOfMajorSurgeries'].max() + 1), edgecolor='black')\n",
        "plt.title('Distribution of Number of Major Surgeries')\n",
        "plt.xlabel('Number of Major Surgeries')\n",
        "plt.ylabel('Frequency')\n",
        "plt.show()\n",
        "# solid distribution (note that this is DISECRETE). Would've liked a few more people with a ton of major surgeries to help the model. This could be categorical or numeric."
      ]
    },
    {
      "cell_type": "code",
      "execution_count": null,
      "metadata": {
        "colab": {
          "base_uri": "https://localhost:8080/",
          "height": 241
        },
        "id": "pmYNKl4nQ-II",
        "outputId": "bf477672-8d90-4835-a9d2-dd8581f2d74d"
      },
      "outputs": [
        {
          "output_type": "execute_result",
          "data": {
            "text/plain": [
              "NumberOfMajorSurgeries\n",
              "0    479\n",
              "1    372\n",
              "2    119\n",
              "3     16\n",
              "Name: count, dtype: int64"
            ],
            "text/html": [
              "<div>\n",
              "<style scoped>\n",
              "    .dataframe tbody tr th:only-of-type {\n",
              "        vertical-align: middle;\n",
              "    }\n",
              "\n",
              "    .dataframe tbody tr th {\n",
              "        vertical-align: top;\n",
              "    }\n",
              "\n",
              "    .dataframe thead th {\n",
              "        text-align: right;\n",
              "    }\n",
              "</style>\n",
              "<table border=\"1\" class=\"dataframe\">\n",
              "  <thead>\n",
              "    <tr style=\"text-align: right;\">\n",
              "      <th></th>\n",
              "      <th>count</th>\n",
              "    </tr>\n",
              "    <tr>\n",
              "      <th>NumberOfMajorSurgeries</th>\n",
              "      <th></th>\n",
              "    </tr>\n",
              "  </thead>\n",
              "  <tbody>\n",
              "    <tr>\n",
              "      <th>0</th>\n",
              "      <td>479</td>\n",
              "    </tr>\n",
              "    <tr>\n",
              "      <th>1</th>\n",
              "      <td>372</td>\n",
              "    </tr>\n",
              "    <tr>\n",
              "      <th>2</th>\n",
              "      <td>119</td>\n",
              "    </tr>\n",
              "    <tr>\n",
              "      <th>3</th>\n",
              "      <td>16</td>\n",
              "    </tr>\n",
              "  </tbody>\n",
              "</table>\n",
              "</div><br><label><b>dtype:</b> int64</label>"
            ]
          },
          "metadata": {},
          "execution_count": 13
        }
      ],
      "source": [
        "df['NumberOfMajorSurgeries'].value_counts()"
      ]
    },
    {
      "cell_type": "code",
      "execution_count": null,
      "metadata": {
        "colab": {
          "base_uri": "https://localhost:8080/",
          "height": 868
        },
        "id": "YnLhvdR2RFZM",
        "outputId": "48e5a59d-ab33-4b4f-f95f-2e19ea198335"
      },
      "outputs": [
        {
          "output_type": "execute_result",
          "data": {
            "text/plain": [
              "PremiumPrice\n",
              "23000    249\n",
              "15000    202\n",
              "28000    132\n",
              "25000    103\n",
              "29000     72\n",
              "30000     47\n",
              "35000     41\n",
              "38000     34\n",
              "31000     31\n",
              "21000     26\n",
              "19000     15\n",
              "26000      7\n",
              "39000      5\n",
              "24000      4\n",
              "32000      4\n",
              "16000      3\n",
              "18000      2\n",
              "34000      2\n",
              "36000      2\n",
              "22000      1\n",
              "40000      1\n",
              "20000      1\n",
              "27000      1\n",
              "17000      1\n",
              "Name: count, dtype: int64"
            ],
            "text/html": [
              "<div>\n",
              "<style scoped>\n",
              "    .dataframe tbody tr th:only-of-type {\n",
              "        vertical-align: middle;\n",
              "    }\n",
              "\n",
              "    .dataframe tbody tr th {\n",
              "        vertical-align: top;\n",
              "    }\n",
              "\n",
              "    .dataframe thead th {\n",
              "        text-align: right;\n",
              "    }\n",
              "</style>\n",
              "<table border=\"1\" class=\"dataframe\">\n",
              "  <thead>\n",
              "    <tr style=\"text-align: right;\">\n",
              "      <th></th>\n",
              "      <th>count</th>\n",
              "    </tr>\n",
              "    <tr>\n",
              "      <th>PremiumPrice</th>\n",
              "      <th></th>\n",
              "    </tr>\n",
              "  </thead>\n",
              "  <tbody>\n",
              "    <tr>\n",
              "      <th>23000</th>\n",
              "      <td>249</td>\n",
              "    </tr>\n",
              "    <tr>\n",
              "      <th>15000</th>\n",
              "      <td>202</td>\n",
              "    </tr>\n",
              "    <tr>\n",
              "      <th>28000</th>\n",
              "      <td>132</td>\n",
              "    </tr>\n",
              "    <tr>\n",
              "      <th>25000</th>\n",
              "      <td>103</td>\n",
              "    </tr>\n",
              "    <tr>\n",
              "      <th>29000</th>\n",
              "      <td>72</td>\n",
              "    </tr>\n",
              "    <tr>\n",
              "      <th>30000</th>\n",
              "      <td>47</td>\n",
              "    </tr>\n",
              "    <tr>\n",
              "      <th>35000</th>\n",
              "      <td>41</td>\n",
              "    </tr>\n",
              "    <tr>\n",
              "      <th>38000</th>\n",
              "      <td>34</td>\n",
              "    </tr>\n",
              "    <tr>\n",
              "      <th>31000</th>\n",
              "      <td>31</td>\n",
              "    </tr>\n",
              "    <tr>\n",
              "      <th>21000</th>\n",
              "      <td>26</td>\n",
              "    </tr>\n",
              "    <tr>\n",
              "      <th>19000</th>\n",
              "      <td>15</td>\n",
              "    </tr>\n",
              "    <tr>\n",
              "      <th>26000</th>\n",
              "      <td>7</td>\n",
              "    </tr>\n",
              "    <tr>\n",
              "      <th>39000</th>\n",
              "      <td>5</td>\n",
              "    </tr>\n",
              "    <tr>\n",
              "      <th>24000</th>\n",
              "      <td>4</td>\n",
              "    </tr>\n",
              "    <tr>\n",
              "      <th>32000</th>\n",
              "      <td>4</td>\n",
              "    </tr>\n",
              "    <tr>\n",
              "      <th>16000</th>\n",
              "      <td>3</td>\n",
              "    </tr>\n",
              "    <tr>\n",
              "      <th>18000</th>\n",
              "      <td>2</td>\n",
              "    </tr>\n",
              "    <tr>\n",
              "      <th>34000</th>\n",
              "      <td>2</td>\n",
              "    </tr>\n",
              "    <tr>\n",
              "      <th>36000</th>\n",
              "      <td>2</td>\n",
              "    </tr>\n",
              "    <tr>\n",
              "      <th>22000</th>\n",
              "      <td>1</td>\n",
              "    </tr>\n",
              "    <tr>\n",
              "      <th>40000</th>\n",
              "      <td>1</td>\n",
              "    </tr>\n",
              "    <tr>\n",
              "      <th>20000</th>\n",
              "      <td>1</td>\n",
              "    </tr>\n",
              "    <tr>\n",
              "      <th>27000</th>\n",
              "      <td>1</td>\n",
              "    </tr>\n",
              "    <tr>\n",
              "      <th>17000</th>\n",
              "      <td>1</td>\n",
              "    </tr>\n",
              "  </tbody>\n",
              "</table>\n",
              "</div><br><label><b>dtype:</b> int64</label>"
            ]
          },
          "metadata": {},
          "execution_count": 14
        }
      ],
      "source": [
        "# Here's what we are trying to predict. The outliers in # count don't necessarily worry me because this is a quantitative prediction, not a classification.\n",
        "\n",
        "df['PremiumPrice'].value_counts()"
      ]
    },
    {
      "cell_type": "code",
      "execution_count": null,
      "metadata": {
        "colab": {
          "base_uri": "https://localhost:8080/",
          "height": 410
        },
        "id": "GXDFYyN7-uvK",
        "outputId": "87aa14c6-7d1b-4e0a-f30e-df8f35802d40"
      },
      "outputs": [
        {
          "output_type": "display_data",
          "data": {
            "text/plain": [
              "<Figure size 800x400 with 1 Axes>"
            ],
            "image/png": "[encoded data removed]"
          },
          "metadata": {}
        }
      ],
      "source": [
        "plt.figure(figsize=(8, 4))\n",
        "plt.hist(df['PremiumPrice'], bins=20, edgecolor='black')\n",
        "plt.title('Distribution of Premium Price')\n",
        "plt.xlabel('Premium Price')\n",
        "plt.ylabel('Frequency')\n",
        "plt.show()\n",
        "\n",
        "# wide variation, as discussed above, which we can see in plot below. Good range and variation in frequencies."
      ]
    },
    {
      "cell_type": "code",
      "execution_count": null,
      "metadata": {
        "colab": {
          "base_uri": "https://localhost:8080/",
          "height": 526
        },
        "id": "Do8eXBD8RnFN",
        "outputId": "ac56a553-e597-4513-a3b3-ac0c7028fe1e"
      },
      "outputs": [
        {
          "output_type": "stream",
          "name": "stdout",
          "text": [
            "51\n",
            "132\n"
          ]
        },
        {
          "output_type": "execute_result",
          "data": {
            "text/plain": [
              "Weight\n",
              "73     43\n",
              "75     41\n",
              "74     38\n",
              "70     34\n",
              "67     31\n",
              "       ..\n",
              "105     1\n",
              "124     1\n",
              "122     1\n",
              "119     1\n",
              "106     1\n",
              "Name: count, Length: 74, dtype: int64"
            ],
            "text/html": [
              "<div>\n",
              "<style scoped>\n",
              "    .dataframe tbody tr th:only-of-type {\n",
              "        vertical-align: middle;\n",
              "    }\n",
              "\n",
              "    .dataframe tbody tr th {\n",
              "        vertical-align: top;\n",
              "    }\n",
              "\n",
              "    .dataframe thead th {\n",
              "        text-align: right;\n",
              "    }\n",
              "</style>\n",
              "<table border=\"1\" class=\"dataframe\">\n",
              "  <thead>\n",
              "    <tr style=\"text-align: right;\">\n",
              "      <th></th>\n",
              "      <th>count</th>\n",
              "    </tr>\n",
              "    <tr>\n",
              "      <th>Weight</th>\n",
              "      <th></th>\n",
              "    </tr>\n",
              "  </thead>\n",
              "  <tbody>\n",
              "    <tr>\n",
              "      <th>73</th>\n",
              "      <td>43</td>\n",
              "    </tr>\n",
              "    <tr>\n",
              "      <th>75</th>\n",
              "      <td>41</td>\n",
              "    </tr>\n",
              "    <tr>\n",
              "      <th>74</th>\n",
              "      <td>38</td>\n",
              "    </tr>\n",
              "    <tr>\n",
              "      <th>70</th>\n",
              "      <td>34</td>\n",
              "    </tr>\n",
              "    <tr>\n",
              "      <th>67</th>\n",
              "      <td>31</td>\n",
              "    </tr>\n",
              "    <tr>\n",
              "      <th>...</th>\n",
              "      <td>...</td>\n",
              "    </tr>\n",
              "    <tr>\n",
              "      <th>105</th>\n",
              "      <td>1</td>\n",
              "    </tr>\n",
              "    <tr>\n",
              "      <th>124</th>\n",
              "      <td>1</td>\n",
              "    </tr>\n",
              "    <tr>\n",
              "      <th>122</th>\n",
              "      <td>1</td>\n",
              "    </tr>\n",
              "    <tr>\n",
              "      <th>119</th>\n",
              "      <td>1</td>\n",
              "    </tr>\n",
              "    <tr>\n",
              "      <th>106</th>\n",
              "      <td>1</td>\n",
              "    </tr>\n",
              "  </tbody>\n",
              "</table>\n",
              "<p>74 rows × 1 columns</p>\n",
              "</div><br><label><b>dtype:</b> int64</label>"
            ]
          },
          "metadata": {},
          "execution_count": 16
        }
      ],
      "source": [
        "# weight representation looks okay, assuming this is in kg. Would've liked for higher representation in obese individuals.\n",
        "print(df['Weight'].min())\n",
        "print(df['Weight'].max())\n",
        "df['Weight'].value_counts()"
      ]
    },
    {
      "cell_type": "code",
      "execution_count": null,
      "metadata": {
        "colab": {
          "base_uri": "https://localhost:8080/",
          "height": 1000
        },
        "id": "guzpFWDbRq2g",
        "outputId": "c61bb18f-6f40-4e2b-971d-76a4d851fe25"
      },
      "outputs": [
        {
          "output_type": "execute_result",
          "data": {
            "text/plain": [
              "Height\n",
              "164    42\n",
              "166    42\n",
              "174    38\n",
              "165    38\n",
              "175    35\n",
              "176    34\n",
              "163    34\n",
              "170    32\n",
              "169    32\n",
              "168    31\n",
              "167    29\n",
              "172    29\n",
              "178    28\n",
              "177    28\n",
              "179    28\n",
              "159    27\n",
              "156    27\n",
              "162    27\n",
              "173    26\n",
              "181    26\n",
              "161    26\n",
              "182    24\n",
              "158    24\n",
              "185    24\n",
              "180    24\n",
              "160    23\n",
              "171    23\n",
              "184    21\n",
              "157    20\n",
              "154    17\n",
              "183    15\n",
              "147    13\n",
              "149    13\n",
              "150    12\n",
              "151    12\n",
              "186    11\n",
              "155    10\n",
              "152    10\n",
              "148     9\n",
              "153     9\n",
              "187     4\n",
              "145     4\n",
              "146     3\n",
              "188     2\n",
              "Name: count, dtype: int64"
            ],
            "text/html": [
              "<div>\n",
              "<style scoped>\n",
              "    .dataframe tbody tr th:only-of-type {\n",
              "        vertical-align: middle;\n",
              "    }\n",
              "\n",
              "    .dataframe tbody tr th {\n",
              "        vertical-align: top;\n",
              "    }\n",
              "\n",
              "    .dataframe thead th {\n",
              "        text-align: right;\n",
              "    }\n",
              "</style>\n",
              "<table border=\"1\" class=\"dataframe\">\n",
              "  <thead>\n",
              "    <tr style=\"text-align: right;\">\n",
              "      <th></th>\n",
              "      <th>count</th>\n",
              "    </tr>\n",
              "    <tr>\n",
              "      <th>Height</th>\n",
              "      <th></th>\n",
              "    </tr>\n",
              "  </thead>\n",
              "  <tbody>\n",
              "    <tr>\n",
              "      <th>164</th>\n",
              "      <td>42</td>\n",
              "    </tr>\n",
              "    <tr>\n",
              "      <th>166</th>\n",
              "      <td>42</td>\n",
              "    </tr>\n",
              "    <tr>\n",
              "      <th>174</th>\n",
              "      <td>38</td>\n",
              "    </tr>\n",
              "    <tr>\n",
              "      <th>165</th>\n",
              "      <td>38</td>\n",
              "    </tr>\n",
              "    <tr>\n",
              "      <th>175</th>\n",
              "      <td>35</td>\n",
              "    </tr>\n",
              "    <tr>\n",
              "      <th>176</th>\n",
              "      <td>34</td>\n",
              "    </tr>\n",
              "    <tr>\n",
              "      <th>163</th>\n",
              "      <td>34</td>\n",
              "    </tr>\n",
              "    <tr>\n",
              "      <th>170</th>\n",
              "      <td>32</td>\n",
              "    </tr>\n",
              "    <tr>\n",
              "      <th>169</th>\n",
              "      <td>32</td>\n",
              "    </tr>\n",
              "    <tr>\n",
              "      <th>168</th>\n",
              "      <td>31</td>\n",
              "    </tr>\n",
              "    <tr>\n",
              "      <th>167</th>\n",
              "      <td>29</td>\n",
              "    </tr>\n",
              "    <tr>\n",
              "      <th>172</th>\n",
              "      <td>29</td>\n",
              "    </tr>\n",
              "    <tr>\n",
              "      <th>178</th>\n",
              "      <td>28</td>\n",
              "    </tr>\n",
              "    <tr>\n",
              "      <th>177</th>\n",
              "      <td>28</td>\n",
              "    </tr>\n",
              "    <tr>\n",
              "      <th>179</th>\n",
              "      <td>28</td>\n",
              "    </tr>\n",
              "    <tr>\n",
              "      <th>159</th>\n",
              "      <td>27</td>\n",
              "    </tr>\n",
              "    <tr>\n",
              "      <th>156</th>\n",
              "      <td>27</td>\n",
              "    </tr>\n",
              "    <tr>\n",
              "      <th>162</th>\n",
              "      <td>27</td>\n",
              "    </tr>\n",
              "    <tr>\n",
              "      <th>173</th>\n",
              "      <td>26</td>\n",
              "    </tr>\n",
              "    <tr>\n",
              "      <th>181</th>\n",
              "      <td>26</td>\n",
              "    </tr>\n",
              "    <tr>\n",
              "      <th>161</th>\n",
              "      <td>26</td>\n",
              "    </tr>\n",
              "    <tr>\n",
              "      <th>182</th>\n",
              "      <td>24</td>\n",
              "    </tr>\n",
              "    <tr>\n",
              "      <th>158</th>\n",
              "      <td>24</td>\n",
              "    </tr>\n",
              "    <tr>\n",
              "      <th>185</th>\n",
              "      <td>24</td>\n",
              "    </tr>\n",
              "    <tr>\n",
              "      <th>180</th>\n",
              "      <td>24</td>\n",
              "    </tr>\n",
              "    <tr>\n",
              "      <th>160</th>\n",
              "      <td>23</td>\n",
              "    </tr>\n",
              "    <tr>\n",
              "      <th>171</th>\n",
              "      <td>23</td>\n",
              "    </tr>\n",
              "    <tr>\n",
              "      <th>184</th>\n",
              "      <td>21</td>\n",
              "    </tr>\n",
              "    <tr>\n",
              "      <th>157</th>\n",
              "      <td>20</td>\n",
              "    </tr>\n",
              "    <tr>\n",
              "      <th>154</th>\n",
              "      <td>17</td>\n",
              "    </tr>\n",
              "    <tr>\n",
              "      <th>183</th>\n",
              "      <td>15</td>\n",
              "    </tr>\n",
              "    <tr>\n",
              "      <th>147</th>\n",
              "      <td>13</td>\n",
              "    </tr>\n",
              "    <tr>\n",
              "      <th>149</th>\n",
              "      <td>13</td>\n",
              "    </tr>\n",
              "    <tr>\n",
              "      <th>150</th>\n",
              "      <td>12</td>\n",
              "    </tr>\n",
              "    <tr>\n",
              "      <th>151</th>\n",
              "      <td>12</td>\n",
              "    </tr>\n",
              "    <tr>\n",
              "      <th>186</th>\n",
              "      <td>11</td>\n",
              "    </tr>\n",
              "    <tr>\n",
              "      <th>155</th>\n",
              "      <td>10</td>\n",
              "    </tr>\n",
              "    <tr>\n",
              "      <th>152</th>\n",
              "      <td>10</td>\n",
              "    </tr>\n",
              "    <tr>\n",
              "      <th>148</th>\n",
              "      <td>9</td>\n",
              "    </tr>\n",
              "    <tr>\n",
              "      <th>153</th>\n",
              "      <td>9</td>\n",
              "    </tr>\n",
              "    <tr>\n",
              "      <th>187</th>\n",
              "      <td>4</td>\n",
              "    </tr>\n",
              "    <tr>\n",
              "      <th>145</th>\n",
              "      <td>4</td>\n",
              "    </tr>\n",
              "    <tr>\n",
              "      <th>146</th>\n",
              "      <td>3</td>\n",
              "    </tr>\n",
              "    <tr>\n",
              "      <th>188</th>\n",
              "      <td>2</td>\n",
              "    </tr>\n",
              "  </tbody>\n",
              "</table>\n",
              "</div><br><label><b>dtype:</b> int64</label>"
            ]
          },
          "metadata": {},
          "execution_count": 17
        }
      ],
      "source": [
        "df['Height'].value_counts()"
      ]
    },
    {
      "cell_type": "code",
      "execution_count": null,
      "metadata": {
        "colab": {
          "base_uri": "https://localhost:8080/",
          "height": 1000
        },
        "id": "iB9ou74VRx39",
        "outputId": "c4a45b27-ed3f-4219-e41e-1bf968b6434d"
      },
      "outputs": [
        {
          "output_type": "stream",
          "name": "stdout",
          "text": [
            "18\n",
            "66\n"
          ]
        },
        {
          "output_type": "execute_result",
          "data": {
            "text/plain": [
              "Age\n",
              "43    30\n",
              "27    27\n",
              "42    27\n",
              "35    26\n",
              "45    25\n",
              "59    25\n",
              "44    24\n",
              "25    24\n",
              "48    24\n",
              "66    23\n",
              "46    23\n",
              "18    23\n",
              "33    23\n",
              "49    23\n",
              "32    22\n",
              "29    22\n",
              "47    22\n",
              "64    22\n",
              "24    22\n",
              "30    22\n",
              "19    21\n",
              "62    21\n",
              "21    21\n",
              "31    20\n",
              "51    20\n",
              "50    20\n",
              "54    20\n",
              "63    19\n",
              "36    19\n",
              "52    19\n",
              "40    19\n",
              "22    19\n",
              "37    18\n",
              "34    18\n",
              "41    18\n",
              "38    17\n",
              "20    17\n",
              "55    17\n",
              "53    17\n",
              "60    17\n",
              "28    17\n",
              "65    17\n",
              "61    16\n",
              "58    16\n",
              "56    15\n",
              "23    13\n",
              "26    13\n",
              "57    12\n",
              "39    11\n",
              "Name: count, dtype: int64"
            ],
            "text/html": [
              "<div>\n",
              "<style scoped>\n",
              "    .dataframe tbody tr th:only-of-type {\n",
              "        vertical-align: middle;\n",
              "    }\n",
              "\n",
              "    .dataframe tbody tr th {\n",
              "        vertical-align: top;\n",
              "    }\n",
              "\n",
              "    .dataframe thead th {\n",
              "        text-align: right;\n",
              "    }\n",
              "</style>\n",
              "<table border=\"1\" class=\"dataframe\">\n",
              "  <thead>\n",
              "    <tr style=\"text-align: right;\">\n",
              "      <th></th>\n",
              "      <th>count</th>\n",
              "    </tr>\n",
              "    <tr>\n",
              "      <th>Age</th>\n",
              "      <th></th>\n",
              "    </tr>\n",
              "  </thead>\n",
              "  <tbody>\n",
              "    <tr>\n",
              "      <th>43</th>\n",
              "      <td>30</td>\n",
              "    </tr>\n",
              "    <tr>\n",
              "      <th>27</th>\n",
              "      <td>27</td>\n",
              "    </tr>\n",
              "    <tr>\n",
              "      <th>42</th>\n",
              "      <td>27</td>\n",
              "    </tr>\n",
              "    <tr>\n",
              "      <th>35</th>\n",
              "      <td>26</td>\n",
              "    </tr>\n",
              "    <tr>\n",
              "      <th>45</th>\n",
              "      <td>25</td>\n",
              "    </tr>\n",
              "    <tr>\n",
              "      <th>59</th>\n",
              "      <td>25</td>\n",
              "    </tr>\n",
              "    <tr>\n",
              "      <th>44</th>\n",
              "      <td>24</td>\n",
              "    </tr>\n",
              "    <tr>\n",
              "      <th>25</th>\n",
              "      <td>24</td>\n",
              "    </tr>\n",
              "    <tr>\n",
              "      <th>48</th>\n",
              "      <td>24</td>\n",
              "    </tr>\n",
              "    <tr>\n",
              "      <th>66</th>\n",
              "      <td>23</td>\n",
              "    </tr>\n",
              "    <tr>\n",
              "      <th>46</th>\n",
              "      <td>23</td>\n",
              "    </tr>\n",
              "    <tr>\n",
              "      <th>18</th>\n",
              "      <td>23</td>\n",
              "    </tr>\n",
              "    <tr>\n",
              "      <th>33</th>\n",
              "      <td>23</td>\n",
              "    </tr>\n",
              "    <tr>\n",
              "      <th>49</th>\n",
              "      <td>23</td>\n",
              "    </tr>\n",
              "    <tr>\n",
              "      <th>32</th>\n",
              "      <td>22</td>\n",
              "    </tr>\n",
              "    <tr>\n",
              "      <th>29</th>\n",
              "      <td>22</td>\n",
              "    </tr>\n",
              "    <tr>\n",
              "      <th>47</th>\n",
              "      <td>22</td>\n",
              "    </tr>\n",
              "    <tr>\n",
              "      <th>64</th>\n",
              "      <td>22</td>\n",
              "    </tr>\n",
              "    <tr>\n",
              "      <th>24</th>\n",
              "      <td>22</td>\n",
              "    </tr>\n",
              "    <tr>\n",
              "      <th>30</th>\n",
              "      <td>22</td>\n",
              "    </tr>\n",
              "    <tr>\n",
              "      <th>19</th>\n",
              "      <td>21</td>\n",
              "    </tr>\n",
              "    <tr>\n",
              "      <th>62</th>\n",
              "      <td>21</td>\n",
              "    </tr>\n",
              "    <tr>\n",
              "      <th>21</th>\n",
              "      <td>21</td>\n",
              "    </tr>\n",
              "    <tr>\n",
              "      <th>31</th>\n",
              "      <td>20</td>\n",
              "    </tr>\n",
              "    <tr>\n",
              "      <th>51</th>\n",
              "      <td>20</td>\n",
              "    </tr>\n",
              "    <tr>\n",
              "      <th>50</th>\n",
              "      <td>20</td>\n",
              "    </tr>\n",
              "    <tr>\n",
              "      <th>54</th>\n",
              "      <td>20</td>\n",
              "    </tr>\n",
              "    <tr>\n",
              "      <th>63</th>\n",
              "      <td>19</td>\n",
              "    </tr>\n",
              "    <tr>\n",
              "      <th>36</th>\n",
              "      <td>19</td>\n",
              "    </tr>\n",
              "    <tr>\n",
              "      <th>52</th>\n",
              "      <td>19</td>\n",
              "    </tr>\n",
              "    <tr>\n",
              "      <th>40</th>\n",
              "      <td>19</td>\n",
              "    </tr>\n",
              "    <tr>\n",
              "      <th>22</th>\n",
              "      <td>19</td>\n",
              "    </tr>\n",
              "    <tr>\n",
              "      <th>37</th>\n",
              "      <td>18</td>\n",
              "    </tr>\n",
              "    <tr>\n",
              "      <th>34</th>\n",
              "      <td>18</td>\n",
              "    </tr>\n",
              "    <tr>\n",
              "      <th>41</th>\n",
              "      <td>18</td>\n",
              "    </tr>\n",
              "    <tr>\n",
              "      <th>38</th>\n",
              "      <td>17</td>\n",
              "    </tr>\n",
              "    <tr>\n",
              "      <th>20</th>\n",
              "      <td>17</td>\n",
              "    </tr>\n",
              "    <tr>\n",
              "      <th>55</th>\n",
              "      <td>17</td>\n",
              "    </tr>\n",
              "    <tr>\n",
              "      <th>53</th>\n",
              "      <td>17</td>\n",
              "    </tr>\n",
              "    <tr>\n",
              "      <th>60</th>\n",
              "      <td>17</td>\n",
              "    </tr>\n",
              "    <tr>\n",
              "      <th>28</th>\n",
              "      <td>17</td>\n",
              "    </tr>\n",
              "    <tr>\n",
              "      <th>65</th>\n",
              "      <td>17</td>\n",
              "    </tr>\n",
              "    <tr>\n",
              "      <th>61</th>\n",
              "      <td>16</td>\n",
              "    </tr>\n",
              "    <tr>\n",
              "      <th>58</th>\n",
              "      <td>16</td>\n",
              "    </tr>\n",
              "    <tr>\n",
              "      <th>56</th>\n",
              "      <td>15</td>\n",
              "    </tr>\n",
              "    <tr>\n",
              "      <th>23</th>\n",
              "      <td>13</td>\n",
              "    </tr>\n",
              "    <tr>\n",
              "      <th>26</th>\n",
              "      <td>13</td>\n",
              "    </tr>\n",
              "    <tr>\n",
              "      <th>57</th>\n",
              "      <td>12</td>\n",
              "    </tr>\n",
              "    <tr>\n",
              "      <th>39</th>\n",
              "      <td>11</td>\n",
              "    </tr>\n",
              "  </tbody>\n",
              "</table>\n",
              "</div><br><label><b>dtype:</b> int64</label>"
            ]
          },
          "metadata": {},
          "execution_count": 18
        }
      ],
      "source": [
        "# I'm very happy with the wide age representation!\n",
        "print(df['Age'].min())\n",
        "print(df['Age'].max())\n",
        "df['Age'].value_counts()"
      ]
    },
    {
      "cell_type": "code",
      "execution_count": null,
      "metadata": {
        "colab": {
          "base_uri": "https://localhost:8080/",
          "height": 410
        },
        "id": "rUgW1E9C_M7b",
        "outputId": "5e001677-850a-4f90-8994-cbdf22e05fd9"
      },
      "outputs": [
        {
          "output_type": "display_data",
          "data": {
            "text/plain": [
              "<Figure size 800x400 with 1 Axes>"
            ],
            "image/png": "[encoded data removed]"
          },
          "metadata": {}
        }
      ],
      "source": [
        "plt.figure(figsize=(8, 4))\n",
        "plt.hist(df['Age'], bins=20, edgecolor='black')\n",
        "plt.title('Distribution of Age')\n",
        "plt.xlabel('Age')\n",
        "plt.ylabel('Frequency')\n",
        "plt.show()"
      ]
    },
    {
      "cell_type": "code",
      "execution_count": null,
      "metadata": {
        "colab": {
          "base_uri": "https://localhost:8080/",
          "height": 410
        },
        "id": "1K_0II3FUWYg",
        "outputId": "b95ea457-758f-4fd5-9b85-61038ab846b6"
      },
      "outputs": [
        {
          "output_type": "display_data",
          "data": {
            "text/plain": [
              "<Figure size 800x400 with 1 Axes>"
            ],
            "image/png": "[encoded data removed]"
          },
          "metadata": {}
        }
      ],
      "source": [
        "plt.figure(figsize=(8, 4))\n",
        "plt.hist(df['Weight'], bins=20, edgecolor='black')\n",
        "plt.title('Distribution of Weight')\n",
        "plt.xlabel('Weight')\n",
        "plt.ylabel('Frequency')\n",
        "plt.show()"
      ]
    },
    {
      "cell_type": "code",
      "execution_count": null,
      "metadata": {
        "colab": {
          "base_uri": "https://localhost:8080/",
          "height": 410
        },
        "id": "2C7XZoPLU-Jx",
        "outputId": "b92bbbf4-2a12-4803-e5f8-0f05c2e56618"
      },
      "outputs": [
        {
          "output_type": "display_data",
          "data": {
            "text/plain": [
              "<Figure size 800x400 with 1 Axes>"
            ],
            "image/png": "[encoded data removed]"
          },
          "metadata": {}
        }
      ],
      "source": [
        "plt.figure(figsize=(8, 4))\n",
        "plt.hist(df['Height'], bins=20, edgecolor='black')\n",
        "plt.title('Distribution of Height')\n",
        "plt.xlabel('Height')\n",
        "plt.ylabel('Frequency')\n",
        "plt.show()"
      ]
    },
    {
      "cell_type": "code",
      "execution_count": null,
      "metadata": {
        "colab": {
          "base_uri": "https://localhost:8080/"
        },
        "id": "iANSzIG-UDLC",
        "outputId": "412b03a3-d709-4998-a694-647059c06465"
      },
      "outputs": [
        {
          "output_type": "stream",
          "name": "stdout",
          "text": [
            "Percentage Prevalence of Binary Qualitative Variables:\n",
            "Diabetes                   41.987830\n",
            "BloodPressureProblems      46.855984\n",
            "AnyTransplants              5.578093\n",
            "AnyChronicDiseases         18.052738\n",
            "KnownAllergies             21.501014\n",
            "HistoryOfCancerInFamily    11.764706\n",
            "dtype: float64\n"
          ]
        }
      ],
      "source": [
        "# List of binary qualitative variables\n",
        "binary_variables = ['Diabetes', 'BloodPressureProblems', 'AnyTransplants',\n",
        "                    'AnyChronicDiseases', 'KnownAllergies', 'HistoryOfCancerInFamily']\n",
        "\n",
        "# Calculate percentage prevalence\n",
        "prevalence = df[binary_variables].mean() * 100\n",
        "\n",
        "# Display results\n",
        "print(\"Percentage Prevalence of Binary Qualitative Variables:\")\n",
        "print(prevalence)"
      ]
    },
    {
      "cell_type": "markdown",
      "metadata": {
        "id": "S3q3BZk15l9D"
      },
      "source": [
        "Sparse Data Check"
      ]
    },
    {
      "cell_type": "code",
      "execution_count": null,
      "metadata": {
        "colab": {
          "base_uri": "https://localhost:8080/"
        },
        "id": "LHVu8i7o5kCJ",
        "outputId": "4cf9d3be-e7ca-4ab9-dd20-32581f7e2fcc"
      },
      "outputs": [
        {
          "output_type": "stream",
          "name": "stdout",
          "text": [
            "Value counts for column: Diabetes\n",
            "Diabetes\n",
            "0    572\n",
            "1    414\n",
            "Name: count, dtype: int64\n",
            "No sparse categories in 'Diabetes'.\n",
            "----------------------------------------\n",
            "Value counts for column: BloodPressureProblems\n",
            "BloodPressureProblems\n",
            "0    524\n",
            "1    462\n",
            "Name: count, dtype: int64\n",
            "No sparse categories in 'BloodPressureProblems'.\n",
            "----------------------------------------\n",
            "Value counts for column: AnyTransplants\n",
            "AnyTransplants\n",
            "0    931\n",
            "1     55\n",
            "Name: count, dtype: int64\n",
            "No sparse categories in 'AnyTransplants'.\n",
            "----------------------------------------\n",
            "Value counts for column: AnyChronicDiseases\n",
            "AnyChronicDiseases\n",
            "0    808\n",
            "1    178\n",
            "Name: count, dtype: int64\n",
            "No sparse categories in 'AnyChronicDiseases'.\n",
            "----------------------------------------\n",
            "Value counts for column: KnownAllergies\n",
            "KnownAllergies\n",
            "0    774\n",
            "1    212\n",
            "Name: count, dtype: int64\n",
            "No sparse categories in 'KnownAllergies'.\n",
            "----------------------------------------\n",
            "Value counts for column: HistoryOfCancerInFamily\n",
            "HistoryOfCancerInFamily\n",
            "0    870\n",
            "1    116\n",
            "Name: count, dtype: int64\n",
            "No sparse categories in 'HistoryOfCancerInFamily'.\n",
            "----------------------------------------\n"
          ]
        }
      ],
      "source": [
        "listCat = ['Diabetes', 'BloodPressureProblems', 'AnyTransplants', 'AnyChronicDiseases', 'KnownAllergies', 'HistoryOfCancerInFamily']\n",
        "\n",
        "# Sparse threshold\n",
        "sparse_threshold = 10\n",
        "\n",
        "# Iterate over each categorical column in listCat\n",
        "for col in listCat:\n",
        "    print(f\"Value counts for column: {col}\")\n",
        "    value_counts = df[col].value_counts()\n",
        "    print(value_counts)\n",
        "\n",
        "    # Identify sparse categories (categories with counts below the threshold)\n",
        "    sparse_categories = value_counts[value_counts < sparse_threshold]\n",
        "\n",
        "    if not sparse_categories.empty:\n",
        "        print(f\"Sparse categories in '{col}':\")\n",
        "        print(sparse_categories)\n",
        "    else:\n",
        "        print(f\"No sparse categories in '{col}'.\")\n",
        "    print(\"-\" * 40)\n",
        "\n",
        "# result = no sparse categories"
      ]
    },
    {
      "cell_type": "markdown",
      "metadata": {
        "id": "eoZ8YGxuSriB"
      },
      "source": [
        "# ML\n",
        "Includes Model Sub-Sections"
      ]
    },
    {
      "cell_type": "markdown",
      "metadata": {
        "id": "FsIghr5DTzj_"
      },
      "source": [
        "Set Up Pipelines"
      ]
    },
    {
      "cell_type": "code",
      "execution_count": null,
      "metadata": {
        "id": "0F9DS1TZSsxP"
      },
      "outputs": [],
      "source": [
        "# separate into quantitative/qualitative data\n",
        "\n",
        "listNum = ['Age', 'Height', 'Weight','NumberOfMajorSurgeries']\n",
        "listCat = ['Diabetes', 'BloodPressureProblems', 'AnyTransplants', 'AnyChronicDiseases', 'KnownAllergies', 'HistoryOfCancerInFamily'] # 'NumberOfMajorSurgeries' can go either way\n"
      ]
    },
    {
      "cell_type": "code",
      "execution_count": null,
      "metadata": {
        "id": "n0FgI7LQDbb-"
      },
      "outputs": [],
      "source": [
        "import sklearn\n",
        "from sklearn.pipeline import Pipeline\n",
        "from sklearn.preprocessing import StandardScaler\n",
        "from sklearn.compose import ColumnTransformer\n",
        "from sklearn.metrics import r2_score\n",
        "\n",
        "from sklearn.model_selection import train_test_split\n",
        "\n",
        "X_train, X_test, y_train, y_test = train_test_split( df, df.PremiumPrice, test_size=0.25 )\n",
        "\n",
        "pipeNum = Pipeline( [\n",
        "\t('selector', ColumnTransformer([ ('selector', 'passthrough', listNum) ] ) ),\n",
        "\t('scaler', StandardScaler() )\n",
        "\t])\n",
        "\n",
        "from sklearn.preprocessing import OneHotEncoder\n",
        "pipeCat = Pipeline([\n",
        "\t('selector', ColumnTransformer([ ('selector', 'passthrough', listCat) ] )),\n",
        "\t('encoder', OneHotEncoder( dtype=int, drop='first' ) )\n",
        "\t])\n",
        "\n",
        "from sklearn.pipeline import FeatureUnion\n",
        "preprocessor = FeatureUnion([\n",
        "\t('num', pipeNum ),\n",
        "\t('cat', pipeCat)\n",
        "\t])"
      ]
    },
    {
      "cell_type": "markdown",
      "metadata": {
        "id": "gF00e-3qFtYq"
      },
      "source": [
        "## Linear Regression"
      ]
    },
    {
      "cell_type": "code",
      "execution_count": null,
      "metadata": {
        "colab": {
          "base_uri": "https://localhost:8080/"
        },
        "id": "IQFVJO6SFEkh",
        "outputId": "7d30052f-3e52-4cd8-9e1c-4ee47ed53354"
      },
      "outputs": [
        {
          "output_type": "stream",
          "name": "stdout",
          "text": [
            "train r2 score: 0.6484956734228896\n",
            "test r2 score: 0.6185094983730365\n"
          ]
        }
      ],
      "source": [
        "from sklearn.linear_model import LinearRegression\n",
        "pipeLinReg = Pipeline([\n",
        "\t('preprocessor', preprocessor),\n",
        "\t('model', LinearRegression())\n",
        "\t])\n",
        "\n",
        "pipeLinReg.fit(X_train, y_train)\n",
        "\n",
        "from sklearn.metrics import r2_score\n",
        "predTrainLinReg = pipeLinReg.predict( X_train )\n",
        "print(f'train r2 score: {sklearn.metrics.r2_score( y_train, predTrainLinReg )}')\n",
        "predTestLinReg = pipeLinReg.predict( X_test )\n",
        "print(f'test r2 score: {sklearn.metrics.r2_score( y_test, predTestLinReg )}')"
      ]
    },
    {
      "cell_type": "markdown",
      "metadata": {
        "id": "WEs33JoiFo6S"
      },
      "source": [
        "## Neural Network"
      ]
    },
    {
      "cell_type": "code",
      "execution_count": null,
      "metadata": {
        "colab": {
          "base_uri": "https://localhost:8080/"
        },
        "id": "DpiXdzMNFH2o",
        "outputId": "8ef91dd9-f73f-4fc7-c2f1-b0ffa2dc4250"
      },
      "outputs": [
        {
          "output_type": "stream",
          "name": "stdout",
          "text": [
            "train r2 score: 0.746194771276554\n",
            "test r2 score: 0.48840402789378157\n"
          ]
        }
      ],
      "source": [
        "from sklearn.neural_network import MLPRegressor\n",
        "\n",
        "# Define the pipeline with the neural network\n",
        "pipeNN = Pipeline([\n",
        "    ('preprocessor', preprocessor),\n",
        "    ('model', MLPRegressor(random_state=28, hidden_layer_sizes=(50, 50, 50), max_iter=10000))\n",
        "])\n",
        "\n",
        "# Fit the neural network model\n",
        "pipeNN.fit(X_train, y_train)\n",
        "\n",
        "# Predict on training data\n",
        "predTrainNN = pipeNN.predict(X_train)\n",
        "print(f'train r2 score: {r2_score(y_train, predTrainNN)}')\n",
        "\n",
        "# Predict on test data\n",
        "predTestNN = pipeNN.predict(X_test)\n",
        "print(f'test r2 score: {r2_score(y_test, predTestNN)}')\n"
      ]
    },
    {
      "cell_type": "markdown",
      "metadata": {
        "id": "kWPrbHaLGpI7"
      },
      "source": [
        "## Fine Tuning: Neural Network"
      ]
    },
    {
      "cell_type": "code",
      "execution_count": null,
      "metadata": {
        "colab": {
          "base_uri": "https://localhost:8080/"
        },
        "id": "3YbI0HhvF7Dx",
        "outputId": "de0755ab-6673-47cc-9afa-e281bbcedf63"
      },
      "outputs": [
        {
          "output_type": "stream",
          "name": "stdout",
          "text": [
            "Fitting 3 folds for each of 4 candidates, totalling 12 fits\n",
            "[Pipeline] ...... (step 1 of 2) Processing preprocessor, total=   0.0s\n",
            "[Pipeline] ............. (step 2 of 2) Processing model, total= 1.7min\n",
            "Best Parameters: {'model__activation': 'relu', 'model__hidden_layer_sizes': (50, 50)}\n",
            "Training R2 Score: 0.884240149223191\n",
            "Test R2 Score: 0.6260904636413006\n"
          ]
        },
        {
          "output_type": "stream",
          "name": "stderr",
          "text": [
            "/usr/local/lib/python3.10/dist-packages/sklearn/neural_network/_multilayer_perceptron.py:690: ConvergenceWarning: Stochastic Optimizer: Maximum iterations (10000) reached and the optimization hasn't converged yet.\n",
            "  warnings.warn(\n"
          ]
        }
      ],
      "source": [
        "from sklearn.neural_network import MLPRegressor\n",
        "from sklearn.model_selection import GridSearchCV\n",
        "\n",
        "# Define the pipeline with MLPRegressor\n",
        "pipeNN = Pipeline([\n",
        "    ('preprocessor', preprocessor),\n",
        "    ('model', MLPRegressor(random_state=28, max_iter=10000))  # No predefined layers yet\n",
        "], verbose=True)\n",
        "\n",
        "# Define the parameter grid for GridSearchCV\n",
        "param_grid = {\n",
        "    'model__hidden_layer_sizes': [(10, 10), (50, 50)],  # Small layer sizes\n",
        "    'model__activation': ['relu', 'tanh'] # Model activation functions\n",
        "}\n",
        "\n",
        "# Define GridSearchCV with cross-validation\n",
        "grid_search = GridSearchCV(\n",
        "    pipeNN, param_grid, cv=3, scoring='r2', n_jobs=-1, verbose=1\n",
        ")\n",
        "\n",
        "# Fit the GridSearchCV\n",
        "grid_search.fit(X_train, y_train)\n",
        "\n",
        "# Get the best model\n",
        "best_model = grid_search.best_estimator_\n",
        "print(f\"Best Parameters: {grid_search.best_params_}\")\n",
        "\n",
        "# Evaluate the best model on the training data\n",
        "predTrainNN = best_model.predict(X_train)\n",
        "print(f'Training R2 Score: {r2_score(y_train, predTrainNN)}')\n",
        "\n",
        "# Evaluate the best model on the test data\n",
        "predTestNN = best_model.predict(X_test)\n",
        "print(f'Test R2 Score: {r2_score(y_test, predTestNN)}')"
      ]
    },
    {
      "cell_type": "markdown",
      "metadata": {
        "id": "oXgIr1P5JKal"
      },
      "source": [
        "## Fine Tuned: Neural Network"
      ]
    },
    {
      "cell_type": "code",
      "execution_count": null,
      "metadata": {
        "colab": {
          "base_uri": "https://localhost:8080/"
        },
        "id": "Qy4f-VKgJJdO",
        "outputId": "e7e15544-6bf6-4105-8b71-794a48e86d80"
      },
      "outputs": [
        {
          "output_type": "stream",
          "name": "stdout",
          "text": [
            "train r2 score: 0.9048635066784638\n",
            "test r2 score: 0.6542329814423272\n"
          ]
        }
      ],
      "source": [
        "from sklearn.neural_network import MLPRegressor\n",
        "\n",
        "# Define the pipeline with the neural network\n",
        "pipeNN = Pipeline([\n",
        "    ('preprocessor', preprocessor),\n",
        "    ('model', MLPRegressor(random_state=28, hidden_layer_sizes=(50,50), activation='relu', max_iter=20000))  # Define the MLPRegressor with updated parameters\n",
        "])\n",
        "\n",
        "# Fit the neural network model\n",
        "pipeNN.fit(X_train, y_train)\n",
        "\n",
        "# Predict on training data\n",
        "predTrainNN = pipeNN.predict(X_train)\n",
        "print(f'train r2 score: {r2_score(y_train, predTrainNN)}')\n",
        "\n",
        "# Predict on test data\n",
        "predTestNN = pipeNN.predict(X_test)\n",
        "print(f'test r2 score: {r2_score(y_test, predTestNN)}')"
      ]
    },
    {
      "cell_type": "markdown",
      "metadata": {
        "id": "_bChsWFUyCqe"
      },
      "source": [
        "## Support Vector Regression (SVR)"
      ]
    },
    {
      "cell_type": "code",
      "execution_count": null,
      "metadata": {
        "colab": {
          "base_uri": "https://localhost:8080/"
        },
        "id": "q564bKyTyB_i",
        "outputId": "945e04e6-d7ba-4f59-bc10-b6fa61165cc0"
      },
      "outputs": [
        {
          "output_type": "stream",
          "name": "stdout",
          "text": [
            "train r2 score: 0.0054977252803957155\n",
            "test r2 score: -0.021573053395913977\n"
          ]
        }
      ],
      "source": [
        "from sklearn.svm import SVR\n",
        "\n",
        "pipe_svr = Pipeline([\n",
        "    ('scaler', StandardScaler()),  # Scale data for better performance with SVR\n",
        "    ('regressor', SVR(kernel='rbf', C=1.0, epsilon=0.1))  # SVR with RBF kernel\n",
        "])\n",
        "\n",
        "# Fit the model\n",
        "pipe_svr.fit(X_train, y_train)\n",
        "\n",
        "# Make predictions using the best model\n",
        "predTrain_svr = pipe_svr.predict(X_train)\n",
        "print(f'train r2 score: {r2_score(y_train, predTrain_svr)}')\n",
        "\n",
        "predTest_svr = pipe_svr.predict(X_test)\n",
        "print(f'test r2 score: {r2_score(y_test, predTest_svr)}')"
      ]
    },
    {
      "cell_type": "markdown",
      "metadata": {
        "id": "N8bhDGWcyQgc"
      },
      "source": [
        "## Random Forest"
      ]
    },
    {
      "cell_type": "code",
      "execution_count": null,
      "metadata": {
        "colab": {
          "base_uri": "https://localhost:8080/"
        },
        "id": "5xYyljrdyQuH",
        "outputId": "1e3834e7-a3dd-48d2-c2bc-78007c0acef4"
      },
      "outputs": [
        {
          "output_type": "stream",
          "name": "stdout",
          "text": [
            "[Pipeline] ...... (step 1 of 2) Processing preprocessor, total=   0.0s\n",
            "[Pipeline] ............. (step 2 of 2) Processing model, total=   0.4s\n",
            "train r2 score: 0.9661047264324117\n",
            "test r2 score: 0.8529188337509853\n"
          ]
        }
      ],
      "source": [
        "from sklearn.ensemble import RandomForestRegressor\n",
        "from sklearn.pipeline import Pipeline\n",
        "\n",
        "pipeRf = Pipeline([\n",
        "    ('preprocessor', preprocessor),\n",
        "    ('model', RandomForestRegressor(random_state=28))\n",
        "], verbose=True)\n",
        "\n",
        "pipeRf.fit( X_train, y_train )\n",
        "\n",
        "predTrainRf = pipeRf.predict( X_train )\n",
        "predTestRf = pipeRf.predict( X_test )\n",
        "\n",
        "# Predict on training data\n",
        "predTrainRf = pipeRf.predict(X_train)\n",
        "print(f'train r2 score: {r2_score(y_train, predTrainRf)}')\n",
        "\n",
        "# Predict on test data\n",
        "predTestRf = pipeRf.predict(X_test)\n",
        "print(f'test r2 score: {r2_score(y_test, predTestRf)}')"
      ]
    },
    {
      "cell_type": "markdown",
      "metadata": {
        "id": "xTmGUoXFyVab"
      },
      "source": [
        "## Fine Tuning: Random Forest"
      ]
    },
    {
      "cell_type": "code",
      "execution_count": null,
      "metadata": {
        "colab": {
          "base_uri": "https://localhost:8080/"
        },
        "id": "E0hZCQ-0yVk1",
        "outputId": "be60d82a-b10d-4ebd-c674-ba17d3a09eba"
      },
      "outputs": [
        {
          "output_type": "stream",
          "name": "stdout",
          "text": [
            "Fitting 3 folds for each of 81 candidates, totalling 243 fits\n",
            "[Pipeline] ...... (step 1 of 2) Processing preprocessor, total=   0.0s\n",
            "[Pipeline] ............. (step 2 of 2) Processing model, total=   0.9s\n",
            "Best Parameters: {'model__max_depth': None, 'model__min_samples_leaf': 1, 'model__min_samples_split': 10, 'model__n_estimators': 200}\n",
            "Training R² Score: 0.8861938962434363\n",
            "Test R² Score: 0.8654040389616582\n"
          ]
        }
      ],
      "source": [
        "from sklearn.ensemble import RandomForestRegressor\n",
        "from sklearn.pipeline import Pipeline\n",
        "from sklearn.model_selection import GridSearchCV\n",
        "from sklearn.metrics import r2_score\n",
        "\n",
        "# Define the base pipeline\n",
        "pipeRf = Pipeline([\n",
        "    ('preprocessor', preprocessor),  # Replace with your actual preprocessing pipeline\n",
        "    ('model', RandomForestRegressor(random_state=28))  # RandomForestRegressor\n",
        "], verbose=True)\n",
        "\n",
        "# Define the parameter grid for GridSearchCV\n",
        "param_grid = {\n",
        "    'model__n_estimators': [50, 100, 200],  # Number of trees in the forest\n",
        "    'model__max_depth': [None, 10, 20],     # Maximum depth of the tree\n",
        "    'model__min_samples_split': [2, 5, 10], # Minimum samples required to split a node\n",
        "    'model__min_samples_leaf': [1, 2, 4],   # Minimum samples required at a leaf node\n",
        "}\n",
        "\n",
        "# Define GridSearchCV\n",
        "grid_search = GridSearchCV(\n",
        "    pipeRf,\n",
        "    param_grid,\n",
        "    cv=3,                # 3-fold cross-validation\n",
        "    scoring='r2',        # R² score\n",
        "    n_jobs=-1,           # Use all available cores\n",
        "    verbose=2            # Verbose output to track progress\n",
        ")\n",
        "\n",
        "# Fit GridSearchCV on the training data\n",
        "grid_search.fit(X_train, y_train)\n",
        "\n",
        "# Print the best parameters\n",
        "print(f\"Best Parameters: {grid_search.best_params_}\")\n",
        "\n",
        "# Get the best pipeline model\n",
        "best_model = grid_search.best_estimator_\n",
        "\n",
        "# Evaluate the best model on the training data\n",
        "predTrainRf = best_model.predict(X_train)\n",
        "print(f'Training R² Score: {r2_score(y_train, predTrainRf)}')\n",
        "\n",
        "# Evaluate the best model on the test data\n",
        "predTestRf = best_model.predict(X_test)\n",
        "print(f'Test R² Score: {r2_score(y_test, predTestRf)}')"
      ]
    },
    {
      "cell_type": "markdown",
      "metadata": {
        "id": "SdCfW6kKyh19"
      },
      "source": [
        "## Fine Tuned: Random Forest"
      ]
    },
    {
      "cell_type": "code",
      "execution_count": null,
      "metadata": {
        "colab": {
          "base_uri": "https://localhost:8080/"
        },
        "id": "2u5Q3QoVyh_y",
        "outputId": "2adca9a8-c4c7-4e49-e691-b638af848564"
      },
      "outputs": [
        {
          "output_type": "stream",
          "name": "stdout",
          "text": [
            "[Pipeline] ...... (step 1 of 2) Processing preprocessor, total=   0.0s\n",
            "[Pipeline] ............. (step 2 of 2) Processing model, total=   0.6s\n",
            "train r2 score: 0.9025549866530641\n",
            "test r2 score: 0.7997196515996241\n"
          ]
        }
      ],
      "source": [
        "pipeRf = Pipeline([\n",
        "    ('preprocessor', preprocessor),\n",
        "    ('model', RandomForestRegressor(\n",
        "        random_state=28,\n",
        "        max_depth=None,\n",
        "        min_samples_leaf=1,\n",
        "        min_samples_split=10,\n",
        "        n_estimators=200\n",
        "    ))\n",
        "], verbose=True)\n",
        "\n",
        "# Now, you can fit your pipeline as usual\n",
        "pipeRf.fit(X_train, y_train)\n",
        "\n",
        "# Predict on training data\n",
        "predTrainRf = pipeRf.predict(X_train)\n",
        "print(f'train r2 score: {r2_score(y_train, predTrainRf)}')\n",
        "\n",
        "# Predict on test data\n",
        "predTestRf = pipeRf.predict(X_test)\n",
        "print(f'test r2 score: {r2_score(y_test, predTestRf)}')"
      ]
    },
    {
      "cell_type": "markdown",
      "source": [
        "Feature Importance"
      ],
      "metadata": {
        "id": "HSGW1vTa-DjB"
      }
    },
    {
      "cell_type": "code",
      "source": [
        "import matplotlib.pyplot as plt\n",
        "import numpy as np\n",
        "\n",
        "# Extract the trained RandomForestRegressor from the pipeline\n",
        "rf_model = pipeRf.named_steps['model']\n",
        "\n",
        "# Get feature importances\n",
        "feature_importances = rf_model.feature_importances_\n",
        "\n",
        "# Get feature names\n",
        "feature_names = X_train.columns\n",
        "\n",
        "# Sort feature importances for better visualization\n",
        "indices = np.argsort(feature_importances)[::-1]\n",
        "\n",
        "# Plot the feature importances\n",
        "plt.figure(figsize=(10, 6))\n",
        "plt.bar(range(len(feature_importances)), feature_importances[indices], align='center')\n",
        "plt.xticks(range(len(feature_importances)), feature_names[indices], rotation=45, ha='right')\n",
        "plt.xlabel('Features')\n",
        "plt.ylabel('Importance')\n",
        "plt.title('Feature Importances from RandomForestRegressor')\n",
        "plt.tight_layout()\n",
        "plt.show()\n"
      ],
      "metadata": {
        "colab": {
          "base_uri": "https://localhost:8080/",
          "height": 419
        },
        "id": "3j5bFwX59yMy",
        "outputId": "3e179151-384b-45de-a39c-1051ddab3631"
      },
      "execution_count": null,
      "outputs": [
        {
          "output_type": "display_data",
          "data": {
            "text/plain": [
              "<Figure size 1000x600 with 1 Axes>"
            ],
            "image/png": "[encoded data removed]"
          },
          "metadata": {}
        }
      ]
    },
    {
      "cell_type": "markdown",
      "metadata": {
        "id": "a_RKbf0UVxJv"
      },
      "source": [
        "# Remove Outliers\n",
        "Test best models from above on df_trim"
      ]
    },
    {
      "cell_type": "markdown",
      "metadata": {
        "id": "upwg5hX2WDtW"
      },
      "source": [
        "Remove outliers using IQR"
      ]
    },
    {
      "cell_type": "code",
      "execution_count": null,
      "metadata": {
        "id": "7WJVLbeFVyvV",
        "colab": {
          "base_uri": "https://localhost:8080/"
        },
        "outputId": "a0ec38b7-a41d-41be-8448-90edc399cd1a"
      },
      "outputs": [
        {
          "output_type": "stream",
          "name": "stdout",
          "text": [
            "Processing column: Age\n",
            "Q1: 30.0, Q3: 53.0, IQR: 23.0\n",
            "Lower bound: -4.5, Upper bound: 87.5\n",
            "Outliers detected in column 'Age': 0\n",
            "DataFrame shape after removing outliers from 'Age': (986, 11)\n",
            "--------------------------------------------------\n",
            "Processing column: Height\n",
            "Q1: 161.0, Q3: 176.0, IQR: 15.0\n",
            "Lower bound: 138.5, Upper bound: 198.5\n",
            "Outliers detected in column 'Height': 0\n",
            "DataFrame shape after removing outliers from 'Height': (986, 11)\n",
            "--------------------------------------------------\n",
            "Processing column: Weight\n",
            "Q1: 67.0, Q3: 87.0, IQR: 20.0\n",
            "Lower bound: 37.0, Upper bound: 117.0\n",
            "Outliers detected in column 'Weight': 16\n",
            "DataFrame shape after removing outliers from 'Weight': (970, 11)\n",
            "--------------------------------------------------\n",
            "Final DataFrame shape after removing all outliers: (970, 11)\n"
          ]
        }
      ],
      "source": [
        "def remove_outliers_columnwise(df, columns):\n",
        "    for column in columns:\n",
        "        # Calculate IQR and bounds\n",
        "        Q1 = df[column].quantile(0.25)  # First quartile (25th percentile)\n",
        "        Q3 = df[column].quantile(0.75)  # Third quartile (75th percentile)\n",
        "        IQR = Q3 - Q1  # Interquartile range\n",
        "        lower_bound = Q1 - 1.5 * IQR\n",
        "        upper_bound = Q3 + 1.5 * IQR\n",
        "\n",
        "        # Print the current column's statistics\n",
        "        print(f\"Processing column: {column}\")\n",
        "        print(f\"Q1: {Q1}, Q3: {Q3}, IQR: {IQR}\")\n",
        "        print(f\"Lower bound: {lower_bound}, Upper bound: {upper_bound}\")\n",
        "\n",
        "        # Count outliers in this column\n",
        "        outliers = df[(df[column] < lower_bound) | (df[column] > upper_bound)]\n",
        "        print(f\"Outliers detected in column '{column}': {outliers.shape[0]}\")\n",
        "\n",
        "        # Remove rows with outliers in the current column\n",
        "        df = df[(df[column] >= lower_bound) & (df[column] <= upper_bound)]\n",
        "\n",
        "        # Print the updated DataFrame shape\n",
        "        print(f\"DataFrame shape after removing outliers from '{column}': {df.shape}\")\n",
        "        print(\"-\" * 50)\n",
        "\n",
        "    return df\n",
        "listNum = ['Age', 'Height', 'Weight']  # Excluding 'NumberOfMajorSurgeries' because IQR is too aggressive here.\n",
        "df_trim = remove_outliers_columnwise(df, listNum)\n",
        "\n",
        "# Final shape of the DataFrame\n",
        "print(\"Final DataFrame shape after removing all outliers:\", df_trim.shape)\n"
      ]
    },
    {
      "cell_type": "markdown",
      "metadata": {
        "id": "i7q3Tk99WN6-"
      },
      "source": [
        "Redefine Pipelines"
      ]
    },
    {
      "cell_type": "code",
      "execution_count": null,
      "metadata": {
        "id": "g5CYUiKQWPRp"
      },
      "outputs": [],
      "source": [
        "listNum = ['Age', 'Height', 'Weight','NumberOfMajorSurgeries']\n",
        "listCat = ['Diabetes', 'BloodPressureProblems', 'AnyTransplants', 'AnyChronicDiseases', 'KnownAllergies', 'HistoryOfCancerInFamily'] # 'NumberOfMajorSurgeries' can go either way\n",
        "\n",
        "\n",
        "X_train, X_test, y_train, y_test = train_test_split( df_trim, df_trim.PremiumPrice, test_size=0.25 )\n",
        "\n",
        "pipeNum = Pipeline( [\n",
        "\t('selector', ColumnTransformer([ ('selector', 'passthrough', listNum) ] ) ),\n",
        "\t('scaler', StandardScaler() )\n",
        "\t])\n",
        "\n",
        "from sklearn.preprocessing import OneHotEncoder\n",
        "pipeCat = Pipeline([\n",
        "\t('selector', ColumnTransformer([ ('selector', 'passthrough', listCat) ] )),\n",
        "\t('encoder', OneHotEncoder( dtype=int, drop='first' ) )\n",
        "\t])\n",
        "\n",
        "from sklearn.pipeline import FeatureUnion\n",
        "preprocessor = FeatureUnion([\n",
        "\t('num', pipeNum ),\n",
        "\t('cat', pipeCat)\n",
        "\t])"
      ]
    },
    {
      "cell_type": "markdown",
      "source": [
        "Fine Tune Random Forest on New Data"
      ],
      "metadata": {
        "id": "FIf6QBGQ0Nej"
      }
    },
    {
      "cell_type": "code",
      "source": [
        "from sklearn.ensemble import RandomForestRegressor\n",
        "from sklearn.pipeline import Pipeline\n",
        "from sklearn.model_selection import GridSearchCV\n",
        "from sklearn.metrics import r2_score\n",
        "\n",
        "# Define the base pipeline\n",
        "pipeRf = Pipeline([\n",
        "    ('preprocessor', preprocessor),  # Replace with your actual preprocessing pipeline\n",
        "    ('model', RandomForestRegressor(random_state=28))  # RandomForestRegressor\n",
        "], verbose=True)\n",
        "\n",
        "# Define the parameter grid for GridSearchCV\n",
        "param_grid = {\n",
        "    'model__n_estimators': [50, 100, 200],  # Number of trees in the forest\n",
        "    'model__max_depth': [None, 10, 20],     # Maximum depth of the tree\n",
        "    'model__min_samples_split': [2, 5, 10], # Minimum samples required to split a node\n",
        "    'model__min_samples_leaf': [1, 2, 4],   # Minimum samples required at a leaf node\n",
        "}\n",
        "\n",
        "# Define GridSearchCV\n",
        "grid_search = GridSearchCV(\n",
        "    pipeRf,\n",
        "    param_grid,\n",
        "    cv=3,                # 3-fold cross-validation\n",
        "    scoring='r2',        # R² score\n",
        "    n_jobs=-1,           # Use all available cores\n",
        "    verbose=2            # Verbose output to track progress\n",
        ")\n",
        "\n",
        "# Fit GridSearchCV on the training data\n",
        "grid_search.fit(X_train, y_train)\n",
        "\n",
        "# Print the best parameters\n",
        "print(f\"Best Parameters: {grid_search.best_params_}\")\n",
        "\n",
        "# Get the best pipeline model\n",
        "best_model = grid_search.best_estimator_\n",
        "\n",
        "# Evaluate the best model on the training data\n",
        "predTrainRf = best_model.predict(X_train)\n",
        "print(f'Training R² Score: {r2_score(y_train, predTrainRf)}')\n",
        "\n",
        "# Evaluate the best model on the test data\n",
        "predTestRf = best_model.predict(X_test)\n",
        "print(f'Test R² Score: {r2_score(y_test, predTestRf)}')"
      ],
      "metadata": {
        "colab": {
          "base_uri": "https://localhost:8080/"
        },
        "id": "oYN4Incw0Lqy",
        "outputId": "f892be78-0e8f-4cb9-f99c-b038c58b62d2"
      },
      "execution_count": null,
      "outputs": [
        {
          "output_type": "stream",
          "name": "stdout",
          "text": [
            "Fitting 3 folds for each of 81 candidates, totalling 243 fits\n",
            "[Pipeline] ...... (step 1 of 2) Processing preprocessor, total=   0.0s\n",
            "[Pipeline] ............. (step 2 of 2) Processing model, total=   0.2s\n",
            "Best Parameters: {'model__max_depth': None, 'model__min_samples_leaf': 1, 'model__min_samples_split': 10, 'model__n_estimators': 50}\n",
            "Training R² Score: 0.8905055855327697\n",
            "Test R² Score: 0.8616254339779567\n"
          ]
        }
      ]
    },
    {
      "cell_type": "markdown",
      "metadata": {
        "id": "-WjYN0P5WGru"
      },
      "source": [
        "Random Forest"
      ]
    },
    {
      "cell_type": "code",
      "execution_count": null,
      "metadata": {
        "id": "AI6apoaDWeXs",
        "colab": {
          "base_uri": "https://localhost:8080/"
        },
        "outputId": "93f2381f-7082-4f1d-c25d-cf6e6c880d73"
      },
      "outputs": [
        {
          "output_type": "stream",
          "name": "stdout",
          "text": [
            "[Pipeline] ...... (step 1 of 2) Processing preprocessor, total=   0.0s\n",
            "[Pipeline] ............. (step 2 of 2) Processing model, total=   0.4s\n",
            "train r2 score: 0.8905055855327697\n",
            "test r2 score: 0.8616254339779567\n"
          ]
        }
      ],
      "source": [
        "pipeRf = Pipeline([\n",
        "    ('preprocessor', preprocessor),\n",
        "    ('model', RandomForestRegressor(\n",
        "        random_state=28,\n",
        "        max_depth=None,\n",
        "        min_samples_leaf=1,\n",
        "        min_samples_split=10,\n",
        "        n_estimators=50\n",
        "    ))\n",
        "], verbose=True)\n",
        "\n",
        "# Now, you can fit your pipeline as usual\n",
        "pipeRf.fit(X_train, y_train)\n",
        "\n",
        "# Predict on training data\n",
        "predTrainRf = pipeRf.predict(X_train)\n",
        "print(f'train r2 score: {r2_score(y_train, predTrainRf)}')\n",
        "\n",
        "# Predict on test data\n",
        "predTestRf = pipeRf.predict(X_test)\n",
        "print(f'test r2 score: {r2_score(y_test, predTestRf)}')"
      ]
    },
    {
      "cell_type": "markdown",
      "source": [
        "Fine Tune Neural Network on New Data"
      ],
      "metadata": {
        "id": "1aTdadtb0Wdb"
      }
    },
    {
      "cell_type": "code",
      "source": [
        "from sklearn.neural_network import MLPRegressor\n",
        "from sklearn.model_selection import GridSearchCV\n",
        "\n",
        "# Define the pipeline with MLPRegressor\n",
        "pipeNN = Pipeline([\n",
        "    ('preprocessor', preprocessor),\n",
        "    ('model', MLPRegressor(random_state=28, max_iter=20000))  # No predefined layers yet\n",
        "], verbose=True)\n",
        "\n",
        "# Define the parameter grid for GridSearchCV\n",
        "param_grid = {\n",
        "    'model__hidden_layer_sizes': [(10, 10), (50, 50)],  # Small layer sizes\n",
        "    'model__activation': ['relu', 'tanh'] # Model activation functions\n",
        "}\n",
        "\n",
        "# Define GridSearchCV with cross-validation\n",
        "grid_search = GridSearchCV(\n",
        "    pipeNN, param_grid, cv=3, scoring='r2', n_jobs=-1, verbose=1\n",
        ")\n",
        "\n",
        "# Fit the GridSearchCV\n",
        "grid_search.fit(X_train, y_train)\n",
        "\n",
        "# Get the best model\n",
        "best_model = grid_search.best_estimator_\n",
        "print(f\"Best Parameters: {grid_search.best_params_}\")\n",
        "\n",
        "# Evaluate the best model on the training data\n",
        "predTrainNN = best_model.predict(X_train)\n",
        "print(f'Training R2 Score: {r2_score(y_train, predTrainNN)}')\n",
        "\n",
        "# Evaluate the best model on the test data\n",
        "predTestNN = best_model.predict(X_test)\n",
        "print(f'Test R2 Score: {r2_score(y_test, predTestNN)}')"
      ],
      "metadata": {
        "colab": {
          "base_uri": "https://localhost:8080/"
        },
        "id": "OQ1A-TF10Va0",
        "outputId": "b05a72fa-e09b-4cd5-c6fa-a37dac5f5a9b"
      },
      "execution_count": null,
      "outputs": [
        {
          "output_type": "stream",
          "name": "stdout",
          "text": [
            "Fitting 3 folds for each of 4 candidates, totalling 12 fits\n",
            "[Pipeline] ...... (step 1 of 2) Processing preprocessor, total=   0.0s\n",
            "[Pipeline] ............. (step 2 of 2) Processing model, total= 3.0min\n",
            "Best Parameters: {'model__activation': 'relu', 'model__hidden_layer_sizes': (50, 50)}\n",
            "Training R2 Score: 0.9211545863777055\n",
            "Test R2 Score: 0.6919923675527706\n"
          ]
        },
        {
          "output_type": "stream",
          "name": "stderr",
          "text": [
            "/usr/local/lib/python3.10/dist-packages/sklearn/neural_network/_multilayer_perceptron.py:690: ConvergenceWarning: Stochastic Optimizer: Maximum iterations (20000) reached and the optimization hasn't converged yet.\n",
            "  warnings.warn(\n"
          ]
        }
      ]
    },
    {
      "cell_type": "markdown",
      "metadata": {
        "id": "d9vXbGRdW2Tb"
      },
      "source": [
        "Fine-Tuned Neural Network"
      ]
    },
    {
      "cell_type": "code",
      "execution_count": null,
      "metadata": {
        "id": "HJ_iJmmpW34A",
        "colab": {
          "base_uri": "https://localhost:8080/"
        },
        "outputId": "22bb66be-b17b-46bc-ca75-4f08826b1f08"
      },
      "outputs": [
        {
          "output_type": "stream",
          "name": "stdout",
          "text": [
            "train r2 score: 0.9211545863777055\n",
            "test r2 score: 0.6919923675527706\n"
          ]
        },
        {
          "output_type": "stream",
          "name": "stderr",
          "text": [
            "/usr/local/lib/python3.10/dist-packages/sklearn/neural_network/_multilayer_perceptron.py:690: ConvergenceWarning: Stochastic Optimizer: Maximum iterations (20000) reached and the optimization hasn't converged yet.\n",
            "  warnings.warn(\n"
          ]
        }
      ],
      "source": [
        "from sklearn.neural_network import MLPRegressor\n",
        "\n",
        "# Define the pipeline with the neural network\n",
        "pipeNN = Pipeline([\n",
        "    ('preprocessor', preprocessor),\n",
        "    ('model', MLPRegressor(random_state=28, hidden_layer_sizes=(50,50), activation='relu', max_iter=20000))  # Define the MLPRegressor with updated parameters\n",
        "])\n",
        "\n",
        "# Fit the neural network model\n",
        "pipeNN.fit(X_train, y_train)\n",
        "\n",
        "# Predict on training data\n",
        "predTrainNN = pipeNN.predict(X_train)\n",
        "print(f'train r2 score: {r2_score(y_train, predTrainNN)}')\n",
        "\n",
        "# Predict on test data\n",
        "predTestNN = pipeNN.predict(X_test)\n",
        "print(f'test r2 score: {r2_score(y_test, predTestNN)}')\n"
      ]
    },
    {
      "cell_type": "markdown",
      "metadata": {
        "id": "OmGPgv__ZMGH"
      },
      "source": [
        "Linear Regression"
      ]
    },
    {
      "cell_type": "code",
      "execution_count": null,
      "metadata": {
        "id": "t2prUsZxYbQ9",
        "colab": {
          "base_uri": "https://localhost:8080/"
        },
        "outputId": "26b88e32-6785-4b6c-9b79-5d5f6b2aa853"
      },
      "outputs": [
        {
          "output_type": "stream",
          "name": "stdout",
          "text": [
            "train r2 score: 0.635814789423117\n",
            "test r2 score: 0.6733367697501926\n"
          ]
        }
      ],
      "source": [
        "from sklearn.linear_model import LinearRegression\n",
        "pipeLinReg = Pipeline([\n",
        "\t('preprocessor', preprocessor),\n",
        "\t('model', LinearRegression())\n",
        "\t])\n",
        "\n",
        "pipeLinReg.fit(X_train, y_train)\n",
        "\n",
        "from sklearn.metrics import r2_score\n",
        "predTrainLinReg = pipeLinReg.predict( X_train )\n",
        "print(f'train r2 score: {sklearn.metrics.r2_score( y_train, predTrainLinReg )}')\n",
        "predTestLinReg = pipeLinReg.predict( X_test )\n",
        "print(f'test r2 score: {sklearn.metrics.r2_score( y_test, predTestLinReg )}')"
      ]
    },
    {
      "cell_type": "markdown",
      "metadata": {
        "id": "fT84Y8XpvUAM"
      },
      "source": [
        "Linear Relationship IMPROVED after removing outliers from Weight!"
      ]
    },
    {
      "cell_type": "markdown",
      "metadata": {
        "id": "UVPJldm9i7mp"
      },
      "source": [
        "# Transforming Features\n",
        "Note that we are continuing with df_trim (removed outliers)"
      ]
    },
    {
      "cell_type": "markdown",
      "metadata": {
        "id": "6FiVAgOJjHyu"
      },
      "source": [
        "Polynomial Transformation for Random Forest"
      ]
    },
    {
      "cell_type": "code",
      "source": [
        "from sklearn.preprocessing import PolynomialFeatures\n",
        "from sklearn.ensemble import RandomForestRegressor\n",
        "\n",
        "pipeNum2 = Pipeline( [\n",
        "    ('selector', ColumnTransformer([ ('selector', 'passthrough', listNum ) ] )),\n",
        "    ('poly',     PolynomialFeatures(degree=3) ), # gives new features to use in the model\n",
        "])\n",
        "\n",
        "preprocessor2 = FeatureUnion([\n",
        "    ('cat', pipeCat ),\n",
        "    ('num', pipeNum2 )\n",
        "])\n",
        "\n",
        "pipeRf_tp = Pipeline([\n",
        "    ('preprocessor2', preprocessor2),\n",
        "    ('model', RandomForestRegressor(random_state=28))\n",
        "])\n",
        "\n",
        "# Fit the pipeline to training data\n",
        "pipeRf_tp.fit(X_train, y_train)\n",
        "\n",
        "# Predict on training data\n",
        "predTrainRf_tp = pipeRf_tp.predict(X_train)\n",
        "print(f'train r2 score: {r2_score(y_train, predTrainRf)}')\n",
        "\n",
        "# Predict on test data\n",
        "predTestRf_tp = pipeRf_tp.predict(X_test)\n",
        "print(f'test r2 score: {r2_score(y_test, predTestRf_tp)}')"
      ],
      "metadata": {
        "colab": {
          "base_uri": "https://localhost:8080/"
        },
        "id": "myxJV2lrBK4p",
        "outputId": "459dca54-ce71-44eb-e043-7170ec36ffee"
      },
      "execution_count": null,
      "outputs": [
        {
          "output_type": "stream",
          "name": "stdout",
          "text": [
            "train r2 score: 0.8905055855327697\n",
            "test r2 score: 0.8329301546472125\n"
          ]
        }
      ]
    },
    {
      "cell_type": "markdown",
      "metadata": {
        "id": "BiLVkeCek_y3"
      },
      "source": [
        "Fine Tuning for # Degrees: Polynomial Transformation for Random Forest"
      ]
    },
    {
      "cell_type": "code",
      "execution_count": null,
      "metadata": {
        "id": "EPUFX1xRlCTJ",
        "colab": {
          "base_uri": "https://localhost:8080/"
        },
        "outputId": "dfe04e2b-3acd-4adb-e249-29b191c60e77"
      },
      "outputs": [
        {
          "output_type": "stream",
          "name": "stdout",
          "text": [
            "Fitting 5 folds for each of 4 candidates, totalling 20 fits\n",
            "Best Parameters: {'preprocessor2__num__poly__degree': 1}\n",
            "Best Cross-Validated R2: 0.7734363940451978\n",
            "Test R2 Score: 0.8468776678179765\n"
          ]
        }
      ],
      "source": [
        "from sklearn.model_selection import GridSearchCV\n",
        "\n",
        "# Define parameter grid for tuning\n",
        "param_grid = {\n",
        "    'preprocessor2__num__poly__degree': [1, 2, 3, 4],  # Test degrees 1 to 4\n",
        "}\n",
        "\n",
        "# Perform Grid Search\n",
        "grid_search = GridSearchCV(pipeRf_tp, param_grid, cv=5, scoring='r2', verbose=1)\n",
        "grid_search.fit(X_train, y_train)\n",
        "\n",
        "# Output the best parameters and scores\n",
        "print(f\"Best Parameters: {grid_search.best_params_}\")\n",
        "print(f\"Best Cross-Validated R2: {grid_search.best_score_}\")\n",
        "\n",
        "# Evaluate the best model on the test set\n",
        "best_model = grid_search.best_estimator_\n",
        "predTestRf = best_model.predict(X_test)\n",
        "print(f\"Test R2 Score: {r2_score(y_test, predTestRf)}\")"
      ]
    },
    {
      "cell_type": "markdown",
      "metadata": {
        "id": "uWKHWTOql9Pt"
      },
      "source": [
        "Fine-Tuned for # Degrees: Polynomial Transformation with Random Forest"
      ]
    },
    {
      "cell_type": "code",
      "execution_count": null,
      "metadata": {
        "id": "Xx2E5ai2mAyM",
        "colab": {
          "base_uri": "https://localhost:8080/"
        },
        "outputId": "0fdd5cf0-e91d-4927-e72e-4a5cb58eb616"
      },
      "outputs": [
        {
          "output_type": "stream",
          "name": "stdout",
          "text": [
            "train r2 score: 0.9672921927290595\n",
            "test r2 score: 0.8468776678179765\n"
          ]
        }
      ],
      "source": [
        "pipeNum2 = Pipeline( [\n",
        "    ('selector', ColumnTransformer([ ('selector', 'passthrough', listNum ) ] )),\n",
        "    ('poly',     PolynomialFeatures(degree=1) ), # gives new features to use in the model\n",
        "])\n",
        "\n",
        "preprocessor2 = FeatureUnion([\n",
        "    ('cat', pipeCat ),\n",
        "    ('num', pipeNum2 )\n",
        "])\n",
        "\n",
        "\n",
        "pipeRf_tp = Pipeline([\n",
        "    ('preprocessor2', preprocessor2),\n",
        "    ('model', RandomForestRegressor(random_state=28))\n",
        "])\n",
        "\n",
        "# Fit the pipeline to training data\n",
        "pipeRf_tp.fit(X_train, y_train)\n",
        "\n",
        "# Predict on training data\n",
        "predTrainRf_tp = pipeRf_tp.predict(X_train)\n",
        "print(f'train r2 score: {r2_score(y_train, predTrainRf_tp)}')\n",
        "\n",
        "# Predict on test data\n",
        "predTestRf_tp = pipeRf_tp.predict(X_test)\n",
        "print(f'test r2 score: {r2_score(y_test, predTestRf_tp)}')"
      ]
    },
    {
      "cell_type": "markdown",
      "metadata": {
        "id": "i1DdnM4JWCNU"
      },
      "source": [
        "Fine tuning for # Degrees: Polynomial Transformation with Neural Network"
      ]
    },
    {
      "cell_type": "code",
      "execution_count": null,
      "metadata": {
        "id": "flJnirzDWESK",
        "colab": {
          "base_uri": "https://localhost:8080/"
        },
        "outputId": "9ef07410-8a7f-4b74-a9c2-1aa515af7a4f"
      },
      "outputs": [
        {
          "output_type": "stream",
          "name": "stdout",
          "text": [
            "Fitting 5 folds for each of 4 candidates, totalling 20 fits\n"
          ]
        },
        {
          "output_type": "stream",
          "name": "stderr",
          "text": [
            "/usr/local/lib/python3.10/dist-packages/sklearn/neural_network/_multilayer_perceptron.py:697: UserWarning: Training interrupted by user.\n",
            "  warnings.warn(\"Training interrupted by user.\")\n",
            "/usr/local/lib/python3.10/dist-packages/sklearn/neural_network/_multilayer_perceptron.py:697: UserWarning: Training interrupted by user.\n",
            "  warnings.warn(\"Training interrupted by user.\")\n",
            "/usr/local/lib/python3.10/dist-packages/sklearn/neural_network/_multilayer_perceptron.py:697: UserWarning: Training interrupted by user.\n",
            "  warnings.warn(\"Training interrupted by user.\")\n",
            "/usr/local/lib/python3.10/dist-packages/sklearn/neural_network/_multilayer_perceptron.py:697: UserWarning: Training interrupted by user.\n",
            "  warnings.warn(\"Training interrupted by user.\")\n"
          ]
        },
        {
          "output_type": "stream",
          "name": "stdout",
          "text": [
            "Best Parameters: {'preprocessor2__num__poly__degree': 1}\n",
            "Best Cross-Validated R2: 0.6541827477323331\n"
          ]
        },
        {
          "output_type": "stream",
          "name": "stderr",
          "text": [
            "/usr/local/lib/python3.10/dist-packages/sklearn/neural_network/_multilayer_perceptron.py:697: UserWarning: Training interrupted by user.\n",
            "  warnings.warn(\"Training interrupted by user.\")\n"
          ]
        }
      ],
      "source": [
        "from sklearn.neural_network import MLPRegressor\n",
        "\n",
        "# Define the pipeline with the neural network\n",
        "pipeNN = Pipeline([\n",
        "    ('preprocessor2', preprocessor2),\n",
        "    ('model', MLPRegressor(random_state=28, hidden_layer_sizes=(50,50), activation='relu', max_iter=20000))  # Define the MLPRegressor with updated parameters\n",
        "])\n",
        "\n",
        "# Define parameter grid for tuning\n",
        "param_grid = {\n",
        "    'preprocessor2__num__poly__degree': [1, 2, 3, 4],  # Test degrees 1 to 4\n",
        "}\n",
        "\n",
        "# Perform Grid Search\n",
        "grid_search = GridSearchCV(pipeNN, param_grid, cv=5, scoring='r2', verbose=1)\n",
        "grid_search.fit(X_train, y_train)\n",
        "\n",
        "# Output the best parameters and scores\n",
        "print(f\"Best Parameters: {grid_search.best_params_}\")\n",
        "print(f\"Best Cross-Validated R2: {grid_search.best_score_}\")\n",
        "\n",
        "# Evaluate the best model on the test set\n",
        "best_model = grid_search.best_estimator_\n",
        "predTestNN = best_model.predict(X_test)"
      ]
    },
    {
      "cell_type": "markdown",
      "metadata": {
        "id": "k3NxcX8oWH-A"
      },
      "source": [
        "Fine Tuned for # Degrees: Polynomial Transformation with Neural Network"
      ]
    },
    {
      "cell_type": "code",
      "execution_count": null,
      "metadata": {
        "id": "CXdh-30-WXIr",
        "colab": {
          "base_uri": "https://localhost:8080/"
        },
        "outputId": "e217fa87-feed-4149-d307-94d27f5d8a76"
      },
      "outputs": [
        {
          "output_type": "stream",
          "name": "stdout",
          "text": [
            "train r2 score: 0.6091917016854103\n",
            "test r2 score: 0.6423581770255817\n"
          ]
        }
      ],
      "source": [
        "from sklearn.neural_network import MLPRegressor\n",
        "pipeNum2 = Pipeline( [\n",
        "    ('selector', ColumnTransformer([ ('selector', 'passthrough', listNum ) ] )),\n",
        "    ('poly',     PolynomialFeatures(degree=1) ), # gives new features to use in the model\n",
        "])\n",
        "\n",
        "preprocessor2 = FeatureUnion([\n",
        "    ('cat', pipeCat ),\n",
        "    ('num', pipeNum2 )\n",
        "])\n",
        "\n",
        "# Define the pipeline with the neural network\n",
        "pipeNN = Pipeline([\n",
        "    ('preprocessor2', preprocessor2),\n",
        "    ('model', MLPRegressor(random_state=28, hidden_layer_sizes=(10, 10, 10), activation='relu', max_iter=20000))  # Define the MLPRegressor with updated parameters\n",
        "])\n",
        "\n",
        "# Fit the neural network model\n",
        "pipeNN.fit(X_train, y_train)\n",
        "\n",
        "# Predict on training data\n",
        "predTrainNN = pipeNN.predict(X_train)\n",
        "print(f'train r2 score: {r2_score(y_train, predTrainNN)}')\n",
        "\n",
        "# Predict on test data\n",
        "predTestNN = pipeNN.predict(X_test)\n",
        "print(f'test r2 score: {r2_score(y_test, predTestNN)}')"
      ]
    },
    {
      "cell_type": "markdown",
      "metadata": {
        "id": "i-9HjtIJmhDS"
      },
      "source": [
        "# Transforming PremiumPrice (Target) to Stabilize Variance & Understand Model Accuracy for Varying Premiums\n",
        "Note that we are no longer continuing with df_trim."
      ]
    },
    {
      "cell_type": "markdown",
      "source": [
        "## Checking for Model Bias on PremiumPrice"
      ],
      "metadata": {
        "id": "VEVR4HKI0duC"
      }
    },
    {
      "cell_type": "markdown",
      "source": [
        "Reset back to using df (with outliers)"
      ],
      "metadata": {
        "id": "Nw4iCiyCEnXI"
      }
    },
    {
      "cell_type": "code",
      "source": [
        "X_train, X_test, y_train, y_test = train_test_split( df, df.PremiumPrice, test_size=0.25 )\n",
        "\n",
        "pipeNum = Pipeline( [\n",
        "\t('selector', ColumnTransformer([ ('selector', 'passthrough', listNum) ] ) ),\n",
        "\t('scaler', StandardScaler() )\n",
        "\t])\n",
        "\n",
        "from sklearn.preprocessing import OneHotEncoder\n",
        "pipeCat = Pipeline([\n",
        "\t('selector', ColumnTransformer([ ('selector', 'passthrough', listCat) ] )),\n",
        "\t('encoder', OneHotEncoder( dtype=int, drop='first' ) )\n",
        "\t])\n",
        "\n",
        "from sklearn.pipeline import FeatureUnion\n",
        "preprocessor = FeatureUnion([\n",
        "\t('num', pipeNum ),\n",
        "\t('cat', pipeCat)\n",
        "\t])"
      ],
      "metadata": {
        "id": "tkRzNiaUDiEm"
      },
      "execution_count": null,
      "outputs": []
    },
    {
      "cell_type": "code",
      "execution_count": null,
      "metadata": {
        "id": "i7suQJD6bAD-"
      },
      "outputs": [],
      "source": [
        "# Redefine pipelines to get rid of transformations\n",
        "\n",
        "pipeRf = Pipeline([\n",
        "    ('preprocessor', preprocessor),\n",
        "    ('model', RandomForestRegressor(\n",
        "        random_state=28,\n",
        "        max_depth=None,\n",
        "        min_samples_leaf=1,\n",
        "        min_samples_split=10,\n",
        "        n_estimators=200\n",
        "    ))\n",
        "])"
      ]
    },
    {
      "cell_type": "markdown",
      "metadata": {
        "id": "vka_Q0QuzPoa"
      },
      "source": [
        "Compare High/Low Premium Prediction Accuracy"
      ]
    },
    {
      "cell_type": "code",
      "execution_count": null,
      "metadata": {
        "id": "HAzQnkmLmi1_",
        "colab": {
          "base_uri": "https://localhost:8080/"
        },
        "outputId": "fda34b68-a600-4903-8b64-db4658b935dc"
      },
      "outputs": [
        {
          "output_type": "stream",
          "name": "stdout",
          "text": [
            "Median PremiumPrice: 23000.0\n",
            "R^2 Score for High Premiums (Rf Regression): 0.16785551303679302\n",
            "R^2 Score for Low Premiums (Rf Regression): 0.7310385640974406\n"
          ]
        }
      ],
      "source": [
        "import numpy as np\n",
        "from sklearn.metrics import r2_score\n",
        "\n",
        "# Calculate the median of PremiumPrice\n",
        "median_premium = df_trim['PremiumPrice'].median()\n",
        "print(f\"Median PremiumPrice: {median_premium}\")\n",
        "\n",
        "pipeRf.fit(X_train, y_train)\n",
        "\n",
        "# Predict on the test set model\n",
        "predTestRf = pipeRf.predict(X_test)\n",
        "\n",
        "# Split the test set into high and low premium groups\n",
        "high_premium_mask = y_test > median_premium\n",
        "low_premium_mask = y_test <= median_premium\n",
        "\n",
        "# Separate true values and predictions for high and low premiums\n",
        "y_test_high = y_test[high_premium_mask]\n",
        "y_test_low = y_test[low_premium_mask]\n",
        "\n",
        "predTest_high_Rf = predTestRf[high_premium_mask]\n",
        "predTest_low_Rf = predTestRf[low_premium_mask]\n",
        "\n",
        "# Calculate R^2 scores for each group\n",
        "r2_high_Rf = r2_score(y_test_high, predTest_high_Rf)\n",
        "r2_low_Rf = r2_score(y_test_low, predTest_low_Rf)\n",
        "\n",
        "# Print the results for both models\n",
        "print(f'R^2 Score for High Premiums (Rf Regression): {r2_high_Rf}')\n",
        "print(f'R^2 Score for Low Premiums (Rf Regression): {r2_low_Rf}')\n"
      ]
    },
    {
      "cell_type": "markdown",
      "metadata": {
        "id": "VqaoLxMizUYt"
      },
      "source": [
        "Clearly a bias toward predicting high premiums more accuratly...let's try and fix this!"
      ]
    },
    {
      "cell_type": "markdown",
      "source": [
        "## Logarithmic Transformation on PremiumPrice"
      ],
      "metadata": {
        "id": "fmBeNcjE0jLL"
      }
    },
    {
      "cell_type": "markdown",
      "metadata": {
        "id": "hik3vqPMprqO"
      },
      "source": [
        "Logarithmic Transformation to Stabilize Variance"
      ]
    },
    {
      "cell_type": "code",
      "execution_count": null,
      "metadata": {
        "id": "8sPKPiRgpH4U",
        "colab": {
          "base_uri": "https://localhost:8080/",
          "height": 472
        },
        "outputId": "45a0faaa-5663-4b7a-f178-99d6f184f032"
      },
      "outputs": [
        {
          "output_type": "display_data",
          "data": {
            "text/plain": [
              "<Figure size 640x480 with 1 Axes>"
            ],
            "image/png": "[encoded data removed]"
          },
          "metadata": {}
        }
      ],
      "source": [
        "import numpy as np\n",
        "import matplotlib.pyplot as plt\n",
        "\n",
        "# Apply logarithmic transformation to premium prices\n",
        "log_premiums = np.log(y_train)  # Apply to training data\n",
        "log_premiums_test = np.log(y_test)  # Apply to test data\n",
        "\n",
        "# Plot the transformed data\n",
        "plt.hist(log_premiums, bins=20, edgecolor='black')\n",
        "plt.title('Distribution of Log-Transformed Premium Price')\n",
        "plt.xlabel('Log(Premium Price)')\n",
        "plt.ylabel('Frequency')\n",
        "plt.show()"
      ]
    },
    {
      "cell_type": "code",
      "execution_count": null,
      "metadata": {
        "id": "21j0rD4bqUCT",
        "colab": {
          "base_uri": "https://localhost:8080/"
        },
        "outputId": "e68c5a81-519c-4b8d-ee88-c38cbc0ec67b"
      },
      "outputs": [
        {
          "output_type": "stream",
          "name": "stdout",
          "text": [
            "Rf: R^2 Score on Log-Scale (TRAIN): 0.9183762685480958\n",
            "Rf: R^2 Score on Log-Scale (TEST): 0.8746384610448203\n"
          ]
        }
      ],
      "source": [
        "# Split the dataset\n",
        "X_train, X_test, y_train, y_test = train_test_split(\n",
        "    df.drop(columns=['PremiumPrice']),  # Exclude target column from features\n",
        "    df['PremiumPrice'],                # Target column\n",
        "    test_size=0.25\n",
        ")\n",
        "\n",
        "# Log-transform the target variable (y_train and y_test)\n",
        "y_train_log = np.log(y_train)\n",
        "y_test_log = np.log(y_test)\n",
        "\n",
        "# Define numerical pipeline\n",
        "pipeNum = Pipeline([\n",
        "    ('selector', ColumnTransformer([('selector', 'passthrough', listNum)])),\n",
        "    ('scaler', StandardScaler())\n",
        "])\n",
        "\n",
        "# Define categorical pipeline\n",
        "pipeCat = Pipeline([\n",
        "    ('selector', ColumnTransformer([('selector', 'passthrough', listCat)])),\n",
        "    ('encoder', OneHotEncoder(dtype=int, drop='first'))\n",
        "])\n",
        "\n",
        "# Combine numerical and categorical pipelines\n",
        "preprocessor = FeatureUnion([\n",
        "    ('num', pipeNum),\n",
        "    ('cat', pipeCat)\n",
        "])\n",
        "\n",
        "# Full pipeline with RandomForestRegressor\n",
        "pipeRf = Pipeline([\n",
        "    ('preprocessor', preprocessor),\n",
        "    ('model', RandomForestRegressor(\n",
        "        random_state=28,\n",
        "        max_depth=30,\n",
        "        max_features=None,\n",
        "        min_samples_leaf=2,\n",
        "        min_samples_split=5,\n",
        "        n_estimators=150\n",
        "    ))\n",
        "])\n",
        "\n",
        "# Fit the pipeline using log-transformed target\n",
        "pipeRf.fit(X_train, y_train_log)\n",
        "\n",
        "# Predict on test data (log-transformed scale)\n",
        "pred_test_log = pipeRf.predict(X_test)\n",
        "pred_train_log = pipeRf.predict(X_train)\n",
        "\n",
        "# Convert predictions back to the original scale\n",
        "pred_test_original = np.exp(pred_test_log)\n",
        "\n",
        "# Evaluate model on log scale\n",
        "r2_log_train = r2_score(y_train_log, pred_train_log)\n",
        "print(f'Rf: R^2 Score on Log-Scale (TRAIN): {r2_log_train}')\n",
        "r2_log_test = r2_score(y_test_log, pred_test_log)\n",
        "print(f'Rf: R^2 Score on Log-Scale (TEST): {r2_log_test}')"
      ]
    },
    {
      "cell_type": "markdown",
      "metadata": {
        "id": "4NwBuOllrhl4"
      },
      "source": [
        "Random Forest Regressor: Test High/Low Premium Predication Accuracy with Log Transformation"
      ]
    },
    {
      "cell_type": "code",
      "execution_count": null,
      "metadata": {
        "id": "Jw6Y3T3Srk5L",
        "colab": {
          "base_uri": "https://localhost:8080/"
        },
        "outputId": "04b9f153-c1a3-454b-f0b8-c935f67647fd"
      },
      "outputs": [
        {
          "output_type": "stream",
          "name": "stdout",
          "text": [
            "R^2 Score for High Premiums (Log-Scale): 0.17255232901186213\n",
            "R^2 Score for Low Premiums (Log-Scale): 0.8267080778674476\n"
          ]
        }
      ],
      "source": [
        "# Define the median from the original (non-log) PremiumPrice\n",
        "median_premium = df_trim['PremiumPrice'].median()\n",
        "\n",
        "# Mask to split high and low premiums (using the original target)\n",
        "high_premium_mask = y_test > median_premium\n",
        "low_premium_mask = y_test <= median_premium\n",
        "\n",
        "# Split log-transformed true values\n",
        "y_test_log_high = y_test_log[high_premium_mask]\n",
        "y_test_log_low = y_test_log[low_premium_mask]\n",
        "\n",
        "# Split log-transformed predictions\n",
        "pred_test_log_high = pred_test_log[high_premium_mask]\n",
        "pred_test_log_low = pred_test_log[low_premium_mask]\n",
        "\n",
        "# Calculate R^2 scores for high and low premiums\n",
        "r2_log_high = r2_score(y_test_log_high, pred_test_log_high)\n",
        "r2_log_low = r2_score(y_test_log_low, pred_test_log_low)\n",
        "\n",
        "print(f'R^2 Score for High Premiums (Log-Scale): {r2_log_high}')\n",
        "print(f'R^2 Score for Low Premiums (Log-Scale): {r2_log_low}')"
      ]
    },
    {
      "cell_type": "markdown",
      "metadata": {
        "id": "rJ4_BWgyzsH8"
      },
      "source": [
        "Log helped!"
      ]
    },
    {
      "cell_type": "markdown",
      "source": [
        "## Box-Cox Transformtation on PremiumPrice\n",
        "Applied after logarithmic transformation.\n",
        "*Total transformation = Box-Cox(LogTrans(PremiumPrice)*"
      ],
      "metadata": {
        "id": "0pVwCGiu0nD0"
      }
    },
    {
      "cell_type": "markdown",
      "metadata": {
        "id": "Lo_yAnuJsGj8"
      },
      "source": [
        "Box-Cox Transformation: Automatically identifies best power transformation to stabilize variance and reduce skewness"
      ]
    },
    {
      "cell_type": "code",
      "execution_count": null,
      "metadata": {
        "id": "6MqDyfZVsMo5",
        "colab": {
          "base_uri": "https://localhost:8080/"
        },
        "outputId": "20e75de5-f8c1-4d20-8ec4-5f328d5025c9"
      },
      "outputs": [
        {
          "output_type": "stream",
          "name": "stdout",
          "text": [
            "Optimal lambda for Box-Cox: 0.7508109155855606\n"
          ]
        }
      ],
      "source": [
        "from scipy.stats import boxcox\n",
        "\n",
        "# Apply Box-Cox transformation\n",
        "y_train_boxcox, lambda_ = boxcox(y_train)  # Box-Cox requires positive values\n",
        "y_test_boxcox = boxcox(y_test, lmbda=lambda_)  # Use the same lambda for the test set\n",
        "\n",
        "print(f'Optimal lambda for Box-Cox: {lambda_}')"
      ]
    },
    {
      "cell_type": "markdown",
      "metadata": {
        "id": "TIa-5hA8sc6B"
      },
      "source": [
        "Random Forest with Box-Cox"
      ]
    },
    {
      "cell_type": "code",
      "execution_count": null,
      "metadata": {
        "id": "x4LRn-rNsiYL",
        "colab": {
          "base_uri": "https://localhost:8080/"
        },
        "outputId": "a9b9c93c-3232-4174-a495-8f7d7b2adf2e"
      },
      "outputs": [
        {
          "output_type": "stream",
          "name": "stdout",
          "text": [
            "R^2 Score on Box-Cox Scale (TRAIN): 0.9667910498636959\n",
            "R^2 Score on Box-Cox Scale (TEST): 0.8484320871812412\n",
            "R^2 Score on Original Scale: 0.8438886287579892\n"
          ]
        }
      ],
      "source": [
        "from sklearn.pipeline import Pipeline\n",
        "from sklearn.preprocessing import StandardScaler, OneHotEncoder\n",
        "from sklearn.compose import ColumnTransformer\n",
        "from sklearn.metrics import r2_score\n",
        "from sklearn.pipeline import FeatureUnion\n",
        "from sklearn.ensemble import RandomForestRegressor\n",
        "from scipy.special import boxcox, inv_boxcox\n",
        "\n",
        "optimal_lambda = lambda_\n",
        "\n",
        "# Apply the Box-Cox transformation using the optimal lambda\n",
        "y_train_boxcox = boxcox(y_train, optimal_lambda)\n",
        "y_test_boxcox = boxcox(y_test, optimal_lambda)\n",
        "\n",
        "# Define numerical pipeline\n",
        "pipeNum = Pipeline([\n",
        "    ('selector', ColumnTransformer([('selector', 'passthrough', listNum)])),\n",
        "    ('scaler', StandardScaler())\n",
        "])\n",
        "\n",
        "# Define categorical pipeline\n",
        "pipeCat = Pipeline([\n",
        "    ('selector', ColumnTransformer([('selector', 'passthrough', listCat)])),\n",
        "    ('encoder', OneHotEncoder(dtype=int, drop='first'))\n",
        "])\n",
        "\n",
        "# Combine numerical and categorical pipelines\n",
        "preprocessor = FeatureUnion([\n",
        "    ('num', pipeNum),\n",
        "    ('cat', pipeCat)\n",
        "])\n",
        "\n",
        "# Full pipeline with RandomForestRegressor\n",
        "pipeRf = Pipeline([\n",
        "    ('preprocessor', preprocessor),\n",
        "    ('model', RandomForestRegressor(random_state=28))\n",
        "])\n",
        "\n",
        "# Fit the pipeline using the transformed target\n",
        "pipeRf.fit(X_train, y_train_boxcox)\n",
        "\n",
        "# Predict on test data (Box-Cox scale)\n",
        "pred_train_boxcox = pipeRf.predict(X_train)\n",
        "pred_test_boxcox = pipeRf.predict(X_test)\n",
        "\n",
        "# Evaluate the model on the Box-Cox scale\n",
        "r2_boxcox_train = r2_score(y_train_boxcox, pred_train_boxcox)\n",
        "print(f'R^2 Score on Box-Cox Scale (TRAIN): {r2_boxcox_train}')\n",
        "\n",
        "r2_boxcox_test = r2_score(y_test_boxcox, pred_test_boxcox)\n",
        "print(f'R^2 Score on Box-Cox Scale (TEST): {r2_boxcox_test}')\n",
        "\n",
        "# Back-transform predictions to the original scale for interpretation\n",
        "pred_test_original = inv_boxcox(pred_test_boxcox, optimal_lambda)\n",
        "\n",
        "# Evaluate the model on the original scale\n",
        "r2_original = r2_score(y_test, pred_test_original)\n",
        "print(f'R^2 Score on Original Scale: {r2_original}')\n"
      ]
    },
    {
      "cell_type": "markdown",
      "metadata": {
        "id": "51bkvVh_tFsT"
      },
      "source": [
        "Test High/Low Premium Accuracy with Box-Cox"
      ]
    },
    {
      "cell_type": "code",
      "execution_count": null,
      "metadata": {
        "id": "_wIRSnSstIp-",
        "colab": {
          "base_uri": "https://localhost:8080/"
        },
        "outputId": "deec0ae5-37a0-4ed3-a045-821e0c286844"
      },
      "outputs": [
        {
          "output_type": "stream",
          "name": "stdout",
          "text": [
            "R^2 Score for High Premiums (Box Cox): 0.41625172050217074\n",
            "R^2 Score for Low Premiums (Box Cox): 0.6861173676831662\n"
          ]
        }
      ],
      "source": [
        "# Define the median in the original scale (since Box-Cox is a transformation of the original)\n",
        "median_premium = df_trim['PremiumPrice'].median()\n",
        "\n",
        "# Use the original y_test to split high and low premiums\n",
        "high_premium_mask = y_test > median_premium\n",
        "low_premium_mask = y_test <= median_premium\n",
        "\n",
        "# Back-transform predictions to the original scale\n",
        "pred_test_original = inv_boxcox(pred_test_boxcox, optimal_lambda)\n",
        "\n",
        "# Split predictions and true values into high and low groups (original scale)\n",
        "pred_high_original = pred_test_original[high_premium_mask]\n",
        "pred_low_original = pred_test_original[low_premium_mask]\n",
        "\n",
        "y_high_original = y_test[high_premium_mask]\n",
        "y_low_original = y_test[low_premium_mask]\n",
        "\n",
        "# Calculate R^2 scores for high and low premiums (original scale)\n",
        "r2_high = r2_score(y_high_original, pred_high_original)\n",
        "r2_low = r2_score(y_low_original, pred_low_original)\n",
        "\n",
        "print(f'R^2 Score for High Premiums (Box Cox): {r2_high}')\n",
        "print(f'R^2 Score for Low Premiums (Box Cox): {r2_low}')"
      ]
    },
    {
      "cell_type": "markdown",
      "source": [
        "## Square-root transformation"
      ],
      "metadata": {
        "id": "LVS4jbXem_bs"
      }
    },
    {
      "cell_type": "code",
      "source": [
        "from sklearn.model_selection import train_test_split\n",
        "from sklearn.pipeline import Pipeline, FeatureUnion\n",
        "from sklearn.compose import ColumnTransformer\n",
        "from sklearn.preprocessing import StandardScaler, OneHotEncoder\n",
        "from sklearn.ensemble import RandomForestRegressor\n",
        "from sklearn.metrics import r2_score\n",
        "import numpy as np\n",
        "\n",
        "# Split the dataset\n",
        "X_train, X_test, y_train, y_test = train_test_split(\n",
        "    df.drop(columns=['PremiumPrice']),  # Exclude target column from features\n",
        "    df['PremiumPrice'],                # Target column\n",
        "    test_size=0.25\n",
        ")\n",
        "\n",
        "# Square root transform the target variable (y_train and y_test)\n",
        "y_train_sqrt = np.sqrt(y_train)\n",
        "y_test_sqrt = np.sqrt(y_test)\n",
        "\n",
        "# Define numerical pipeline\n",
        "pipeNum = Pipeline([\n",
        "    ('selector', ColumnTransformer([('selector', 'passthrough', listNum)])),\n",
        "    ('scaler', StandardScaler())\n",
        "])\n",
        "\n",
        "# Define categorical pipeline\n",
        "pipeCat = Pipeline([\n",
        "    ('selector', ColumnTransformer([('selector', 'passthrough', listCat)])),\n",
        "    ('encoder', OneHotEncoder(dtype=int, drop='first'))\n",
        "])\n",
        "\n",
        "# Combine numerical and categorical pipelines\n",
        "preprocessor = FeatureUnion([\n",
        "    ('num', pipeNum),\n",
        "    ('cat', pipeCat)\n",
        "])\n",
        "\n",
        "# Full pipeline with RandomForestRegressor\n",
        "pipeRf = Pipeline([\n",
        "    ('preprocessor', preprocessor),\n",
        "    ('model', RandomForestRegressor(\n",
        "        random_state=28,\n",
        "        max_depth=30,\n",
        "        max_features=None,\n",
        "        min_samples_leaf=2,\n",
        "        min_samples_split=5,\n",
        "        n_estimators=150\n",
        "    ))\n",
        "])\n",
        "\n",
        "# Fit the pipeline using square root-transformed target\n",
        "pipeRf.fit(X_train, y_train_sqrt)\n",
        "\n",
        "# Predict on test data (square root-transformed scale)\n",
        "pred_test_sqrt = pipeRf.predict(X_test)\n",
        "pred_train_sqrt = pipeRf.predict(X_train)\n",
        "\n",
        "# Convert predictions back to the original scale\n",
        "pred_test_original = pred_test_sqrt ** 2\n",
        "\n",
        "# Evaluate model on square root scale\n",
        "r2_sqrt_train = r2_score(y_train_sqrt, pred_train_sqrt)\n",
        "print(f'Rf: R^2 Score on Square Root-Scale (TRAIN): {r2_sqrt_train}')\n",
        "r2_sqrt_test = r2_score(y_test_sqrt, pred_test_sqrt)\n",
        "print(f'Rf: R^2 Score on Square Root-Scale (TEST): {r2_sqrt_test}')\n"
      ],
      "metadata": {
        "colab": {
          "base_uri": "https://localhost:8080/"
        },
        "id": "seYNI86InA3l",
        "outputId": "4ee23a48-9b0f-4996-c3e2-1085f63d5cf9"
      },
      "execution_count": null,
      "outputs": [
        {
          "output_type": "stream",
          "name": "stdout",
          "text": [
            "Rf: R^2 Score on Square Root-Scale (TRAIN): 0.9214299739626977\n",
            "Rf: R^2 Score on Square Root-Scale (TEST): 0.8404412667043147\n"
          ]
        }
      ]
    },
    {
      "cell_type": "markdown",
      "source": [
        "Test High/Low Premium Accuracy"
      ],
      "metadata": {
        "id": "ubeQfoh2pK_Q"
      }
    },
    {
      "cell_type": "code",
      "source": [
        "from sklearn.metrics import r2_score\n",
        "import numpy as np\n",
        "\n",
        "# Define the median in the original scale (since square root is a transformation of the original)\n",
        "median_premium = df_trim['PremiumPrice'].median()\n",
        "\n",
        "# Use the original y_test to split high and low premiums\n",
        "high_premium_mask = y_test > median_premium\n",
        "low_premium_mask = y_test <= median_premium\n",
        "\n",
        "# Back-transform predictions to the original scale\n",
        "pred_test_original = pred_test_sqrt ** 2\n",
        "\n",
        "# Split predictions and true values into high and low groups (original scale)\n",
        "pred_high_original = pred_test_original[high_premium_mask]\n",
        "pred_low_original = pred_test_original[low_premium_mask]\n",
        "\n",
        "y_high_original = y_test[high_premium_mask]\n",
        "y_low_original = y_test[low_premium_mask]\n",
        "\n",
        "# Calculate R^2 scores for high and low premiums (original scale)\n",
        "r2_high = r2_score(y_high_original, pred_high_original)\n",
        "r2_low = r2_score(y_low_original, pred_low_original)\n",
        "\n",
        "print(f'R^2 Score for High Premiums (Square Root): {r2_high}')\n",
        "print(f'R^2 Score for Low Premiums (Square Root): {r2_low}')\n"
      ],
      "metadata": {
        "colab": {
          "base_uri": "https://localhost:8080/"
        },
        "id": "mF5TfZfnnWNr",
        "outputId": "a13c433f-d735-4767-8661-ded7909b4775"
      },
      "execution_count": null,
      "outputs": [
        {
          "output_type": "stream",
          "name": "stdout",
          "text": [
            "R^2 Score for High Premiums (Square Root): 0.3535249653627204\n",
            "R^2 Score for Low Premiums (Square Root): 0.7147096338768806\n"
          ]
        }
      ]
    },
    {
      "cell_type": "markdown",
      "source": [
        "## Quantile Transformation"
      ],
      "metadata": {
        "id": "BEDiMUxNoP-l"
      }
    },
    {
      "cell_type": "code",
      "source": [
        "from sklearn.preprocessing import QuantileTransformer\n",
        "from sklearn.model_selection import train_test_split\n",
        "from sklearn.metrics import r2_score\n",
        "from sklearn.ensemble import RandomForestRegressor\n",
        "from sklearn.pipeline import Pipeline\n",
        "\n",
        "# Split the dataset\n",
        "X_train, X_test, y_train, y_test = train_test_split(\n",
        "    df.drop(columns=['PremiumPrice']),  # Exclude target column from features\n",
        "    df['PremiumPrice'],                # Target column\n",
        "    test_size=0.25,\n",
        "    random_state=42\n",
        ")\n",
        "\n",
        "# Initialize the QuantileTransformer\n",
        "quantile_transformer = QuantileTransformer(output_distribution='normal', random_state=42)\n",
        "\n",
        "# Fit and transform the target variable (y_train)\n",
        "y_train_transformed = quantile_transformer.fit_transform(y_train.values.reshape(-1, 1)).flatten()\n",
        "y_test_transformed = quantile_transformer.transform(y_test.values.reshape(-1, 1)).flatten()\n",
        "\n",
        "# Define the regression model pipeline\n",
        "pipeRf = Pipeline([\n",
        "    ('model', RandomForestRegressor(\n",
        "        random_state=42,\n",
        "        max_depth=30,\n",
        "        max_features=None,\n",
        "        min_samples_leaf=2,\n",
        "        min_samples_split=5,\n",
        "        n_estimators=150\n",
        "    ))\n",
        "])\n",
        "\n",
        "# Fit the pipeline with the transformed target\n",
        "pipeRf.fit(X_train, y_train_transformed)\n",
        "\n",
        "# Predict on the test set (Quantile-transformed scale)\n",
        "pred_train_transformed = pipeRf.predict(X_train)\n",
        "pred_test_transformed = pipeRf.predict(X_test)\n",
        "\n",
        "# Evaluate the model on the Quantile-transformed scale\n",
        "r2_transformed_train = r2_score(y_train_transformed, pred_train_transformed)\n",
        "r2_transformed_test = r2_score(y_test_transformed, pred_test_transformed)\n",
        "\n",
        "print(f'R^2 Score on Quantile-Transformed Scale (TRAIN): {r2_transformed_train}')\n",
        "print(f'R^2 Score on Quantile-Transformed Scale (TEST): {r2_transformed_test}')\n",
        "\n",
        "# Back-transform predictions to the original scale\n",
        "pred_train_original = quantile_transformer.inverse_transform(pred_train_transformed.reshape(-1, 1)).flatten()\n",
        "pred_test_original = quantile_transformer.inverse_transform(pred_test_transformed.reshape(-1, 1)).flatten()\n",
        "\n",
        "# Evaluate the model on the original scale\n",
        "r2_original_train = r2_score(y_train, pred_train_original)\n",
        "r2_original_test = r2_score(y_test, pred_test_original)\n",
        "\n",
        "print(f'R^2 Score on Original Scale (TRAIN): {r2_original_train}')\n",
        "print(f'R^2 Score on Original Scale (TEST): {r2_original_test}')\n"
      ],
      "metadata": {
        "colab": {
          "base_uri": "https://localhost:8080/"
        },
        "id": "7F9OCyRRoSos",
        "outputId": "eab14333-b74e-43e5-fda1-cd1a4aa541b7"
      },
      "execution_count": null,
      "outputs": [
        {
          "output_type": "stream",
          "name": "stderr",
          "text": [
            "/usr/local/lib/python3.10/dist-packages/sklearn/preprocessing/_data.py:2785: UserWarning: n_quantiles (1000) is greater than the total number of samples (739). n_quantiles is set to n_samples.\n",
            "  warnings.warn(\n"
          ]
        },
        {
          "output_type": "stream",
          "name": "stdout",
          "text": [
            "R^2 Score on Quantile-Transformed Scale (TRAIN): 0.9406295865489411\n",
            "R^2 Score on Quantile-Transformed Scale (TEST): 0.9033152194707793\n",
            "R^2 Score on Original Scale (TRAIN): 0.8423239341242673\n",
            "R^2 Score on Original Scale (TEST): 0.8262304729050051\n"
          ]
        }
      ]
    },
    {
      "cell_type": "markdown",
      "source": [
        "Test High/Low Premium Accuracy"
      ],
      "metadata": {
        "id": "HFIpLNK4pOwK"
      }
    },
    {
      "cell_type": "code",
      "source": [
        "from sklearn.metrics import r2_score\n",
        "import numpy as np\n",
        "\n",
        "# Define the median in the original scale (Quantile transformation is applied to the original data)\n",
        "median_premium = df['PremiumPrice'].median()\n",
        "\n",
        "# Use the original y_test to split high and low premiums\n",
        "high_premium_mask = y_test > median_premium\n",
        "low_premium_mask = y_test <= median_premium\n",
        "\n",
        "# Back-transform predictions to the original scale\n",
        "pred_test_original = quantile_transformer.inverse_transform(pred_test_transformed.reshape(-1, 1)).flatten()\n",
        "\n",
        "# Split predictions and true values into high and low groups (original scale)\n",
        "pred_high_original = pred_test_original[high_premium_mask]\n",
        "pred_low_original = pred_test_original[low_premium_mask]\n",
        "\n",
        "y_high_original = y_test[high_premium_mask]\n",
        "y_low_original = y_test[low_premium_mask]\n",
        "\n",
        "# Calculate R^2 scores for high and low premiums (original scale)\n",
        "r2_high = r2_score(y_high_original, pred_high_original)\n",
        "r2_low = r2_score(y_low_original, pred_low_original)\n",
        "\n",
        "print(f'R^2 Score for High Premiums (Original Scale): {r2_high}')\n",
        "print(f'R^2 Score for Low Premiums (Original Scale): {r2_low}')\n"
      ],
      "metadata": {
        "colab": {
          "base_uri": "https://localhost:8080/"
        },
        "id": "v2OApyN8pQWS",
        "outputId": "b085d5f2-b55a-42c6-9aa2-a04881aef921"
      },
      "execution_count": null,
      "outputs": [
        {
          "output_type": "stream",
          "name": "stdout",
          "text": [
            "R^2 Score for High Premiums (Original Scale): 0.18558498864683626\n",
            "R^2 Score for Low Premiums (Original Scale): 0.8444511971600007\n"
          ]
        }
      ]
    },
    {
      "cell_type": "markdown",
      "source": [
        "Feature Importance"
      ],
      "metadata": {
        "id": "fkNVfHP0-Fm6"
      }
    },
    {
      "cell_type": "code",
      "source": [
        "import matplotlib.pyplot as plt\n",
        "import numpy as np\n",
        "\n",
        "# Extract the trained RandomForestRegressor from the pipeline\n",
        "rf_model = pipeRf.named_steps['model']\n",
        "\n",
        "# Get feature importances\n",
        "feature_importances = rf_model.feature_importances_\n",
        "\n",
        "# Get feature names\n",
        "feature_names = X_train.columns\n",
        "\n",
        "# Sort feature importances for better visualization\n",
        "indices = np.argsort(feature_importances)[::-1]\n",
        "\n",
        "# Plot the feature importances\n",
        "plt.figure(figsize=(10, 6))\n",
        "plt.bar(range(len(feature_importances)), feature_importances[indices], align='center')\n",
        "plt.xticks(range(len(feature_importances)), feature_names[indices], rotation=45, ha='right')\n",
        "plt.xlabel('Features')\n",
        "plt.ylabel('Importance')\n",
        "plt.title('Feature Importances from RandomForestRegressor')\n",
        "plt.tight_layout()\n",
        "plt.show()\n"
      ],
      "metadata": {
        "colab": {
          "base_uri": "https://localhost:8080/",
          "height": 419
        },
        "id": "Pz19Jhr89ZGu",
        "outputId": "06843aa7-d7cf-40f0-a084-ccf084bd91be"
      },
      "execution_count": null,
      "outputs": [
        {
          "output_type": "display_data",
          "data": {
            "text/plain": [
              "<Figure size 1000x600 with 1 Axes>"
            ],
            "image/png": "[encoded data removed]"
          },
          "metadata": {}
        }
      ]
    }
  ],
  "metadata": {
    "colab": {
      "collapsed_sections": [
        "mir6HP98SpAV",
        "eoZ8YGxuSriB",
        "a_RKbf0UVxJv",
        "UVPJldm9i7mp",
        "0pVwCGiu0nD0",
        "LVS4jbXem_bs"
      ],
      "provenance": []
    },
    "kernelspec": {
      "display_name": "Python 3",
      "name": "python3"
    },
    "language_info": {
      "name": "python"
    }
  },
  "nbformat": 4,
  "nbformat_minor": 0
}